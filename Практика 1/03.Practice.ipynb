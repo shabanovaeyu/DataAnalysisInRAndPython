{
 "cells": [
  {
   "cell_type": "markdown",
   "source": [
    "# Немного о Jupyter Notebook\r\n",
    "Среда разработки, в которой можно работать с кодом.  \r\n",
    "Главная особенность - возможность разбить код на части (ячейки).  \r\n",
    "Файлы имеют расширение *ipynb*."
   ],
   "metadata": {}
  },
  {
   "cell_type": "markdown",
   "source": [
    "## Два типа ячеек:  \r\n",
    "* **Code** - предназначена для редактирования кода\r\n",
    "* **Markdown** - предназначена для написания комментариев"
   ],
   "metadata": {}
  },
  {
   "cell_type": "code",
   "execution_count": null,
   "source": [
    "# Это ячейка в режиме Сode\r\n",
    "x = 2 + 2\r\n",
    "x"
   ],
   "outputs": [],
   "metadata": {}
  },
  {
   "cell_type": "markdown",
   "source": [
    "### Это ячейка в режиме Markdown\r\n",
    "x = 2 + 2  \r\n",
    "x"
   ],
   "metadata": {}
  },
  {
   "cell_type": "markdown",
   "source": [
    "## Два режима работы с ячейками:\r\n",
    "* **edit mode** -  режим редактирования\r\n",
    "* **command mode** - командный режим"
   ],
   "metadata": {}
  },
  {
   "cell_type": "code",
   "execution_count": 14,
   "source": [
    "# Встаньте тектовым указателем внутрь ячейки\r\n",
    "# Появится синяя рамка - это режим редактирования\r\n",
    "# Теперь можно набирать код"
   ],
   "outputs": [],
   "metadata": {}
  },
  {
   "cell_type": "code",
   "execution_count": null,
   "source": [
    "# Встаньте текстовым указателем слева от ячейки\r\n",
    "# Синяя рамка исчезнет - это командный режим\r\n",
    "# Код набирать не получится,\r\n",
    "# Но есть ряд команд, выполняемых только в этом режиме"
   ],
   "outputs": [],
   "metadata": {}
  },
  {
   "cell_type": "markdown",
   "source": [
    "## Основные команды для работы с ячейками **в командном режиме**:\r\n",
    "* удаление ячеки: D + D\r\n",
    "* отмена удаления ячейки: Z\r\n",
    "* вставка ячейки выше активной: A\r\n",
    "* вставка ячейки ниже активной: B"
   ],
   "metadata": {}
  },
  {
   "cell_type": "code",
   "execution_count": null,
   "source": [
    "# Вставьте ячейку ниже этой"
   ],
   "outputs": [],
   "metadata": {}
  },
  {
   "cell_type": "code",
   "execution_count": null,
   "source": [
    "# Удалите эту ячейку, затем отмените удаление"
   ],
   "outputs": [],
   "metadata": {}
  },
  {
   "cell_type": "markdown",
   "source": [
    "# Типы данных Python\r\n",
    "* числовой тип (целый int, вещественный float),\r\n",
    "* логический тип *bool*,\r\n",
    "* строковый *str*,\r\n",
    "* кортеж *tuple*,\r\n",
    "* список *list*,\r\n",
    "* словарь *dict*,\r\n",
    "* функция *function*,\r\n",
    "* класс *type*,\r\n",
    "* модуль *module*,\r\n",
    "* ..."
   ],
   "metadata": {}
  },
  {
   "cell_type": "code",
   "execution_count": null,
   "source": [
    "# Создаём объект x с типом int:\r\n",
    "x = 1\r\n",
    "x"
   ],
   "outputs": [],
   "metadata": {}
  },
  {
   "cell_type": "code",
   "execution_count": null,
   "source": [
    "# Создаём объект x с типом float:\r\n",
    "x = 1.0 \r\n",
    "x"
   ],
   "outputs": [],
   "metadata": {}
  },
  {
   "cell_type": "code",
   "execution_count": null,
   "source": [
    "# Создаём объект x с типом str:  \r\n",
    "x = '1'\r\n",
    "x"
   ],
   "outputs": [],
   "metadata": {}
  },
  {
   "cell_type": "code",
   "execution_count": null,
   "source": [
    "# Функция type(object) позволяет узнать тип объекта:\r\n",
    "x = 1\r\n",
    "type(x)"
   ],
   "outputs": [],
   "metadata": {}
  },
  {
   "cell_type": "code",
   "execution_count": null,
   "source": [
    "# Имеется также специальный тип NoneType \r\n",
    "# и единственный объект этого типа None - пустой объект.\r\n",
    "x = None\r\n",
    "\r\n",
    "type(x)"
   ],
   "outputs": [],
   "metadata": {}
  },
  {
   "cell_type": "code",
   "execution_count": null,
   "source": [
    "# Изменить тип объекта можно с помощью одноимённой функции:\r\n",
    "x = 1\r\n",
    "\r\n",
    "print(type(x))\r\n",
    "x = float(x)\r\n",
    "print(type(x))"
   ],
   "outputs": [],
   "metadata": {}
  },
  {
   "cell_type": "markdown",
   "source": [
    "# Синтаксис Python\r\n",
    "\r\n",
    "* Логические и физические строки\r\n",
    "* Отступы строк\r\n",
    "* Зарезервированные слова\r\n",
    "* Оператор присваивания\r\n",
    "* Оператор удаления объекта del\r\n",
    "* Арифметические операторы\r\n",
    "* Логические операторы\r\n",
    "* Битовые операторы\r\n",
    "* Операторы сравнения\r\n",
    "* Операторы членства\r\n",
    "* Операторы тождественности\r\n",
    "\r\n",
    "- Составная форма оператора присваивания\r\n",
    "- Приоритеты операторов\r\n",
    "- Истинность"
   ],
   "metadata": {}
  },
  {
   "cell_type": "markdown",
   "source": [
    "## Отступы строк\r\n",
    "В Python важно правильно оформлять отступы.  \r\n",
    "Строки, имеющие одинаковый отступ, принадлежат одному блоку."
   ],
   "metadata": {}
  },
  {
   "cell_type": "code",
   "execution_count": null,
   "source": [
    "# Правильно:\r\n",
    "x = 1\r\n",
    "if x > 0:\r\n",
    "    print('x is positive')\r\n",
    "else:\r\n",
    "    print('x is negative')"
   ],
   "outputs": [],
   "metadata": {}
  },
  {
   "cell_type": "code",
   "execution_count": null,
   "source": [
    "# Неправильно:\r\n",
    "x = 1\r\n",
    " y = 2  # IndentationError: unexpected indent"
   ],
   "outputs": [],
   "metadata": {}
  },
  {
   "cell_type": "markdown",
   "source": [
    "## Зарезервированные слова\r\n",
    "Следующие слова являются зарезервированными и не могут использоваться   \r\n",
    "для обозначения имён переменных, классов, модулей и т.д.:  \r\n",
    "\r\n",
    "and, assert, break, class, continue, def, del, elif, else, except, exec,  \r\n",
    "finally, for, from, global, if, import, in, is, lambda, not, nonlocal, or,  \r\n",
    "pass, print, raise, return, try, while."
   ],
   "metadata": {}
  },
  {
   "cell_type": "code",
   "execution_count": null,
   "source": [
    "# Функция print() выводит на экран значения своих аргументов:\r\n",
    "x = 1\r\n",
    "y = 2\r\n",
    "print(x, y, x + y)\r\n",
    "print('x + y =', x + y)"
   ],
   "outputs": [],
   "metadata": {}
  },
  {
   "cell_type": "markdown",
   "source": [
    "## Оператор присваивания\r\n",
    "Оператор присваивания = присваивает левому операнду значение выражения."
   ],
   "metadata": {}
  },
  {
   "cell_type": "code",
   "execution_count": null,
   "source": [
    "x = 1\r\n",
    "y = x + 1\r\n",
    "print(x)\r\n",
    "print(y)"
   ],
   "outputs": [],
   "metadata": {}
  },
  {
   "cell_type": "markdown",
   "source": [
    "## Арифметические операторы\r\n",
    "В Python существуют следующие арифметические операции:  \r\n",
    "* сложение (**+**),  \r\n",
    "* вычитание (**-**),  \r\n",
    "* умножение (*),  \r\n",
    "* деление (**/**),  \r\n",
    "* целочисленное деление (**//**),  \r\n",
    "* остаток от деления (**%**),  \r\n",
    "* возведение в степень (**).  \r\n",
    "\r\n",
    "(!) Операторы + и * при работе с составными типами данных такими, как:  \r\n",
    "cтрока, кортеж и список имеют следующую семантику:  \r\n",
    "x + y - объединение объектов x и y,  \r\n",
    "n * x  и  x * n - объединение n копий объекта x.  "
   ],
   "metadata": {}
  },
  {
   "cell_type": "code",
   "execution_count": 31,
   "source": [
    "x = 5\r\n",
    "y = 2"
   ],
   "outputs": [],
   "metadata": {}
  },
  {
   "cell_type": "code",
   "execution_count": null,
   "source": [
    "print(x + y)\r\n",
    "print(x * y)"
   ],
   "outputs": [],
   "metadata": {}
  },
  {
   "cell_type": "code",
   "execution_count": null,
   "source": [
    "print(x / y)\r\n",
    "print(x // y)"
   ],
   "outputs": [],
   "metadata": {}
  },
  {
   "cell_type": "code",
   "execution_count": null,
   "source": [
    "print(x % y)\r\n",
    "print(x ** y)"
   ],
   "outputs": [],
   "metadata": {}
  },
  {
   "cell_type": "code",
   "execution_count": null,
   "source": [
    "x = -5\r\n",
    "y = 2\r\n",
    "\r\n",
    "print(x // y)\r\n",
    "print(x % y)\r\n",
    "print(2 * (x // y) + x % y)"
   ],
   "outputs": [],
   "metadata": {}
  },
  {
   "cell_type": "code",
   "execution_count": null,
   "source": [
    "x = '1'\r\n",
    "y = '1'\r\n",
    "\r\n",
    "print(x + y)\r\n",
    "print(2 * x)"
   ],
   "outputs": [],
   "metadata": {}
  },
  {
   "cell_type": "markdown",
   "source": [
    "## Логические операторы\r\n",
    "В Python существуют следующие логические операторы,  \r\n",
    "позволяющие проверять истинность/ложность выражений:  \r\n",
    "**and** - логическое AND,  \r\n",
    "**or** - логическое OR,  \r\n",
    "**not** - логическое NOT."
   ],
   "metadata": {}
  },
  {
   "cell_type": "code",
   "execution_count": null,
   "source": [
    "x = 1\r\n",
    "y = 2\r\n",
    "z = 3\r\n",
    "\r\n",
    "print(x < y)\r\n",
    "print(y > z)"
   ],
   "outputs": [],
   "metadata": {}
  },
  {
   "cell_type": "code",
   "execution_count": null,
   "source": [
    "print((x < y) and (y > z))\r\n",
    "print((x < y) or  (y > z))\r\n",
    "print(not(x < y))"
   ],
   "outputs": [],
   "metadata": {}
  },
  {
   "cell_type": "markdown",
   "source": [
    "## Операторы сравнения\r\n",
    "В Python существуют следующие операторы сравнения:  \r\n",
    "* равенство (==),\r\n",
    "* неравенство (!=),\r\n",
    "* меньше (<),\r\n",
    "* меньше или равно (<=),\r\n",
    "* больше (>),\r\n",
    "* больше или равно (>=)."
   ],
   "metadata": {}
  },
  {
   "cell_type": "code",
   "execution_count": null,
   "source": [
    "x = 1\r\n",
    "y = 2\r\n",
    "\r\n",
    "print(x == y)\r\n",
    "print(x != y)\r\n",
    "print(x < y)"
   ],
   "outputs": [],
   "metadata": {}
  },
  {
   "cell_type": "markdown",
   "source": [
    "## Операторы проверки наличия¶\r\n",
    "В Python существуют операторы наличия элемента в объектах  \r\n",
    "с составным типом данных (строки, списки, кортежи или словари):    \r\n",
    "**in** - проверка наличия элемента в составном объекте,  \r\n",
    "**not in** - проверка отсутствия элемента в составном объекте."
   ],
   "metadata": {}
  },
  {
   "cell_type": "code",
   "execution_count": null,
   "source": [
    "x = 1\r\n",
    "y = [1, 2, 3]\r\n",
    "\r\n",
    "print(x in y)\r\n",
    "print(x not in y)"
   ],
   "outputs": [],
   "metadata": {}
  },
  {
   "cell_type": "code",
   "execution_count": null,
   "source": [
    "x = 'Hello, Student!'\r\n",
    "\r\n",
    "print('Hello' in x)\r\n",
    "print('student' in x)"
   ],
   "outputs": [],
   "metadata": {}
  },
  {
   "cell_type": "markdown",
   "source": [
    "## Составная форма оператора присваивания\r\n",
    "При работе с составными объектами (строка, кортеж, список),  \r\n",
    "составные формы оператора присваивания += и *= имеют следующую семантику:  \r\n",
    "* x += y эквивалентно x = x + y;  \r\n",
    "* x *= n эквивалентно x = n * x.  "
   ],
   "metadata": {}
  },
  {
   "cell_type": "code",
   "execution_count": null,
   "source": [
    "x = 1\r\n",
    "y = 1\r\n",
    "x += y  # эквивалентно записи x = x + y\r\n",
    "x"
   ],
   "outputs": [],
   "metadata": {}
  },
  {
   "cell_type": "code",
   "execution_count": null,
   "source": [
    "x = '1'\r\n",
    "y = '2'\r\n",
    "\r\n",
    "x += y\r\n",
    "x"
   ],
   "outputs": [],
   "metadata": {}
  },
  {
   "cell_type": "markdown",
   "source": [
    "## Составные операторы\r\n",
    "Операторы в Python можно разделить на две группы: простые и составные.  \r\n",
    "\r\n",
    "Составные операторы содержат в себе другие операторы  \r\n",
    "и управляют их выполнением. \r\n",
    "\r\n",
    "К составным относятся следующие операторы:  \r\n",
    "**if** - оператор ветвления;  \r\n",
    "**while** - оператор цикла, выполняющий операций пока истинно заданное условие;  \r\n",
    "**for** - оператор цикла для перебора элементов;  \r\n",
    "**try** - оператор обработки исключительных ситуаций.  \r\n",
    "\r\n",
    "К записи составных операторов действую следующие правила:  \r\n",
    "- составной оператор состоит из одной или нескольких ветвей (частей);  \r\n",
    "- каждая ветвь состоит из заголовка и тела;  \r\n",
    "- заголовок ветви начинается с ключевого слова и заканчивается двоеточием;  \r\n",
    "- заголовки ветвей одного составного оператора должны иметь   \r\n",
    "  одинаковый уровень отступа;  \r\n",
    "- тело представляет собой один или несколько простых операторов,   \r\n",
    "  расположенных в следующих за заголовком строках и имеющих одинаковый отступ;  \r\n"
   ],
   "metadata": {}
  },
  {
   "cell_type": "markdown",
   "source": [
    "### Оператор ветвления if"
   ],
   "metadata": {}
  },
  {
   "cell_type": "code",
   "execution_count": null,
   "source": [
    "# Оператор if предназначен для выполнения различных действий \r\n",
    "# в зависимости от условий. Синтаксис оператора имеет вид:\r\n",
    "\r\n",
    "# if Условие 1:\r\n",
    "#     Блок операторов 1\r\n",
    "# elif Условие 2:\r\n",
    "#     Блок операторов 2\r\n",
    "# elif Условие 3:\r\n",
    "#     Блок операторов 3\r\n",
    "# ...\r\n",
    "# else:\r\n",
    "#     Блок операторов N\r\n",
    "\r\n",
    "# Семантика оператора if следующая:\r\n",
    "# - если первое условие истинно, то выполняется первый блок операторов,\r\n",
    "#   иначе проверяется истинность второго условия;\r\n",
    "# - если второе условие истинно, то выполнятеся второй блок операторов,\r\n",
    "#   иначе проверяется истинность третьего условия и т.д....;\r\n",
    "#   ...\r\n",
    "# - если ни одно из условий не оказолсь выполненным, \r\n",
    "#   то выполняется блок операторов ветви else. \r\n",
    "\r\n",
    "# Обязательной частью оператора является только ветвь if, \r\n",
    "# остальные ветви могут отсутствовать."
   ],
   "outputs": [],
   "metadata": {}
  },
  {
   "cell_type": "code",
   "execution_count": null,
   "source": [
    "x = 0\r\n",
    "\r\n",
    "if x > 0:\r\n",
    "    print('x is positive')\r\n",
    "elif x < 0:\r\n",
    "    print('x is negative')\r\n",
    "else:\r\n",
    "    print('x is zero')"
   ],
   "outputs": [],
   "metadata": {}
  },
  {
   "cell_type": "markdown",
   "source": [
    "### Оператор цикла while"
   ],
   "metadata": {}
  },
  {
   "cell_type": "code",
   "execution_count": null,
   "source": [
    "# Оператор while предназначен для многократного выполнения действий, \r\n",
    "# пока является истинным заданное условие. \r\n",
    "# Синтаксис оператора имеет вид:\r\n",
    "\r\n",
    "# while Условие:\r\n",
    "#     Блок операторов  # тело цикла\r\n",
    "\r\n",
    "# Семантика оператора while следующая:\r\n",
    "# - если условие истинно, \r\n",
    "#   то выполняется блок операторов (тело цикла);\r\n",
    "# - повторно проверяется условие и, если оно истинно, \r\n",
    "#   то выполняется блок операторов;\r\n",
    "# - ...\r\n",
    "# - если условие продолжения цикла оказалось ложным,\r\n",
    "#   то происходит выход из цикла."
   ],
   "outputs": [],
   "metadata": {}
  },
  {
   "cell_type": "code",
   "execution_count": null,
   "source": [
    "# Вычисление суммы чисел от 1 до 5.\r\n",
    "\r\n",
    "i = 0  # счётчик числа итераций\r\n",
    "s = 0  # накопитель\r\n",
    "\r\n",
    "while i < 5:\r\n",
    "    i = i + 1  # увеличение счётчика итераций\r\n",
    "    s = s + i  # добавление к накопителю очередноо слагаемого\r\n",
    "\r\n",
    "print(s)"
   ],
   "outputs": [],
   "metadata": {}
  },
  {
   "cell_type": "markdown",
   "source": [
    "### Оператор цикла for"
   ],
   "metadata": {}
  },
  {
   "cell_type": "code",
   "execution_count": null,
   "source": [
    "# Оператор for предназначен для перебора элементов последовательности.\r\n",
    "\r\n",
    "# Синтаксис оператора имеет вид:\r\n",
    "\r\n",
    "# for var in sequence:\r\n",
    "#     Блок операторов  # тело цикла\r\n",
    "\r\n",
    "# Здесь: \r\n",
    "#   var - переменная цикла, \r\n",
    "#   sequence - это выражение, которое вычисляется один раз в начале цикла,\r\n",
    "#              результатом которого должен быть итерабельный объект.\r\n",
    "\r\n",
    "# \"Итерабельный\" объект - это объект, состоящий из нескольких элементов\r\n",
    "# и поддерживающий протокол перебора элементов, например, строка символов."
   ],
   "outputs": [],
   "metadata": {}
  },
  {
   "cell_type": "code",
   "execution_count": null,
   "source": [
    "for c in 'hello':  # перебор символов строки\r\n",
    "     print(c)      # и вывод их на экран"
   ],
   "outputs": [],
   "metadata": {}
  },
  {
   "cell_type": "code",
   "execution_count": null,
   "source": [
    "x = [1, 2, 3, 4, 5]  # список чисел\r\n",
    "\r\n",
    "for i in x:   # перебор элементов списка x\r\n",
    "    print(i)  # и вывод их на экран"
   ],
   "outputs": [],
   "metadata": {}
  },
  {
   "cell_type": "code",
   "execution_count": null,
   "source": [
    "x = [1, 2, 3, 4, 5]  # список чисел\r\n",
    "\r\n",
    "s = 0            \r\n",
    "for i in x:  # вычисление суммы элементов списка x\r\n",
    "    s = s + i\r\n",
    "    \r\n",
    "print(s)"
   ],
   "outputs": [],
   "metadata": {}
  },
  {
   "cell_type": "markdown",
   "source": [
    "## Функции пользователя"
   ],
   "metadata": {}
  },
  {
   "cell_type": "code",
   "execution_count": null,
   "source": [
    "# Функция - это инструмент, позволяющий сгруппировать команды программы, \r\n",
    "# для их повторного использования.\r\n",
    "# Функции могут иметь параметры (аргументы) и возвращать результат.\r\n",
    "# Использование функции называется вызовом. \r\n",
    "\r\n",
    "# Объявление функции пользователя имеет вид:\r\n",
    "\r\n",
    "# def ИмяФункции(Список аргументов):\r\n",
    "#     ...\r\n",
    "#     Тело функции\r\n",
    "#     ...\r\n",
    "#     return(Возвращаемое значение)\r\n",
    "\r\n",
    "# Здесь ключевое слово def является командой, \r\n",
    "# предписывающая интерпретатору Python создать объект - функцию - и присвоить \r\n",
    "# ей указанное имя функции.\r\n",
    "\r\n",
    "# Тело функции - это фрагмент текста программы, который связывается \r\n",
    "# с именем функции и который будет исполняться каждый раз при вызове функции.\r\n",
    "\r\n",
    "# Список аргументов - это список, состоящий из нуля или более имен \r\n",
    "# аргументов функции."
   ],
   "outputs": [],
   "metadata": {}
  },
  {
   "cell_type": "code",
   "execution_count": 11,
   "source": [
    "def my_fun(a, b):  # функция возвращает сумму своих аргументов\r\n",
    "    return a + b"
   ],
   "outputs": [],
   "metadata": {}
  },
  {
   "cell_type": "code",
   "execution_count": null,
   "source": [
    "my_fun(1, 2)"
   ],
   "outputs": [],
   "metadata": {}
  },
  {
   "cell_type": "code",
   "execution_count": 13,
   "source": [
    "def my_factorial(n):  # функция возвращает значение n! (факториал числа n)\r\n",
    "    if n <= 0: \r\n",
    "        return(1)  # по определению 0! = 1\r\n",
    "\r\n",
    "    return n * my_factorial(n-1)  # по определению n! = n * (n-1)!"
   ],
   "outputs": [],
   "metadata": {}
  },
  {
   "cell_type": "code",
   "execution_count": null,
   "source": [
    "my_factorial(4)"
   ],
   "outputs": [],
   "metadata": {}
  },
  {
   "cell_type": "code",
   "execution_count": 16,
   "source": [
    "def my_fun(x, y, z):\r\n",
    "    result = (x + y) * z\r\n",
    "    return result"
   ],
   "outputs": [],
   "metadata": {}
  },
  {
   "cell_type": "code",
   "execution_count": null,
   "source": [
    "my_fun(1, 2, 3)"
   ],
   "outputs": [],
   "metadata": {}
  },
  {
   "cell_type": "code",
   "execution_count": null,
   "source": [
    "my_fun(x=1, y=2, z=3)"
   ],
   "outputs": [],
   "metadata": {}
  },
  {
   "cell_type": "code",
   "execution_count": null,
   "source": [
    "# Задача 1\r\n",
    "\r\n",
    "# Дано:\r\n",
    "# Числа a, b, c\r\n",
    "\r\n",
    "# Требуется:\r\n",
    "# Написать функцию find_mean(a, b, c), \r\n",
    "# которая в качестве аргументов принимает числа a, b, c\r\n",
    "# и возвращает их среднее значение\r\n",
    "\r\n",
    "# Пример использования:\r\n",
    "# >>> find_mean(3, 2, 1)\r\n",
    "# Результат:\r\n",
    "# 2"
   ],
   "outputs": [],
   "metadata": {}
  },
  {
   "cell_type": "code",
   "execution_count": null,
   "source": [
    "# Решение задачи 1:\r\n",
    "\r\n",
    "def find_mean(a, b, c):\r\n",
    "    \r\n",
    "    sum = # ENTER YOUR CODE HERE\r\n",
    "    mean = # ENTER YOUR CODE HERE\r\n",
    "\r\n",
    "    return mean"
   ],
   "outputs": [],
   "metadata": {}
  },
  {
   "cell_type": "code",
   "execution_count": null,
   "source": [
    "# Проверка решения задачи 1:\r\n",
    "# >> 37.0\r\n",
    "\r\n",
    "find_mean(1, 10, 100)"
   ],
   "outputs": [],
   "metadata": {}
  },
  {
   "cell_type": "code",
   "execution_count": null,
   "source": [
    "# Задача 2\r\n",
    "\r\n",
    "# Дано:\r\n",
    "# Числа a, b, c\r\n",
    "\r\n",
    "# Требуется:\r\n",
    "# Написать функцию find_max(a, b, c), \r\n",
    "# которая в качестве аргументов принимает числа a, b, c\r\n",
    "# и возвращает максиимальное из этих значений\r\n",
    "\r\n",
    "# Пример использования:\r\n",
    "# >>> find_max(3, 2, 1)\r\n",
    "# Результат:\r\n",
    "# 3"
   ],
   "outputs": [],
   "metadata": {}
  },
  {
   "cell_type": "code",
   "execution_count": 19,
   "source": [
    "# Решение задачи 2:\r\n",
    "\r\n",
    "def find_max(a, b, c):\r\n",
    "\r\n",
    "    result = None\r\n",
    "\r\n",
    "    if (a > b) and (b > c):\r\n",
    "        result = a\r\n",
    "    elif # ENTER YOUR CODE HERE\r\n",
    "\r\n",
    "    return result"
   ],
   "outputs": [],
   "metadata": {}
  },
  {
   "cell_type": "code",
   "execution_count": null,
   "source": [
    "# Проверка решения задачи 2:\r\n",
    "# >> 1\r\n",
    "\r\n",
    "find_max(1, -10, -100)"
   ],
   "outputs": [],
   "metadata": {}
  },
  {
   "cell_type": "code",
   "execution_count": 24,
   "source": [
    "# Задача 3\r\n",
    "\r\n",
    "# Дано:\r\n",
    "# Список list (элементы списка - только числа)\r\n",
    "# (!) Список в Python задается перечислением объектов через запятую внутри квардатных скобок\r\n",
    "# Например: [1, 2, 3], ['a', 1, 0.45], [1, [1], [1,1]]\r\n",
    "\r\n",
    "# Требуется:\r\n",
    "# Написать функцию get_sum(list), \r\n",
    "# которая в качестве аргументов принимает список list\r\n",
    "# и возвращает сумму всех элементов этого списка\r\n",
    "\r\n",
    "# Пример использования:\r\n",
    "# >>> get_sum([1, 2, 3, 4])\r\n",
    "# Результат:\r\n",
    "# 10"
   ],
   "outputs": [],
   "metadata": {}
  },
  {
   "cell_type": "code",
   "execution_count": null,
   "source": [
    "# Решение задачи 3:\r\n",
    "\r\n",
    "def get_sum(list):\r\n",
    "\r\n",
    "    result = 0\r\n",
    "\r\n",
    "    for element in list:\r\n",
    "       # ENTER YOUR CODE HERE\r\n",
    "\r\n",
    "    return result"
   ],
   "outputs": [],
   "metadata": {}
  },
  {
   "cell_type": "code",
   "execution_count": null,
   "source": [
    "# Проверка решения задачи 3:\r\n",
    "# >> -109\r\n",
    "\r\n",
    "get_sum([1, -10, -100])"
   ],
   "outputs": [],
   "metadata": {}
  },
  {
   "cell_type": "code",
   "execution_count": null,
   "source": [
    "# Задача 4\r\n",
    "\r\n",
    "# Дано:\r\n",
    "# Список list\r\n",
    "\r\n",
    "# Требуется:\r\n",
    "# Написать функцию count_elements(list), \r\n",
    "# которая в качестве аргументов принимает список list\r\n",
    "# и возвращает количество элементов этого списка\r\n",
    "\r\n",
    "# Пример использования:\r\n",
    "# >>> get_sum([1, 2, 3, 4])\r\n",
    "# Результат:\r\n",
    "# 4"
   ],
   "outputs": [],
   "metadata": {}
  },
  {
   "cell_type": "code",
   "execution_count": null,
   "source": [
    "# Решение задачи 4:\r\n",
    "\r\n",
    "def count_elements(list):\r\n",
    "\r\n",
    "    # ENTER YOUR CODE HERE\r\n",
    "\r\n",
    "    return "
   ],
   "outputs": [],
   "metadata": {}
  },
  {
   "cell_type": "code",
   "execution_count": null,
   "source": [
    "# Проверка решения задачи 4:\r\n",
    "# >> 5\r\n",
    "\r\n",
    "count_elements([1, -10, -100, [1, -10, -100], 'tsu'])"
   ],
   "outputs": [],
   "metadata": {}
  },
  {
   "cell_type": "code",
   "execution_count": null,
   "source": [
    "# Задача 5\r\n",
    "\r\n",
    "# Дано:\r\n",
    "# Список чисел list и число N\r\n",
    "\r\n",
    "# Требуется:\r\n",
    "# Написать функцию get_sum_lessN(list, N), \r\n",
    "# которая в качестве аргументов принимает список list и число N\r\n",
    "# и возвращает сумму элементов этого списка, которые меньше N\r\n",
    "\r\n",
    "# Пример использования:\r\n",
    "# >>> get_sum_lessN(list=[1, 2, 3, 4], N=3.5)\r\n",
    "# Результат:\r\n",
    "# 6"
   ],
   "outputs": [],
   "metadata": {}
  },
  {
   "cell_type": "code",
   "execution_count": 6,
   "source": [
    "# Решение задачи 5:\r\n",
    "\r\n",
    "def get_sum_lessN(list, N):\r\n",
    "\r\n",
    "    result = 0\r\n",
    "\r\n",
    "    for element in list:\r\n",
    "        if # ENTER YOUR CODE HERE\r\n",
    "\r\n",
    "    return result"
   ],
   "outputs": [],
   "metadata": {}
  },
  {
   "cell_type": "code",
   "execution_count": null,
   "source": [
    "# Проверка решения задачи 5:\r\n",
    "# >> -99\r\n",
    "\r\n",
    "get_sum_lessN([-100, -10, 1, 10, 100, 101], 100)"
   ],
   "outputs": [],
   "metadata": {}
  },
  {
   "cell_type": "code",
   "execution_count": null,
   "source": [
    "# Задача 6\r\n",
    "\r\n",
    "# Дано:\r\n",
    "# Список целых чисел list\r\n",
    "\r\n",
    "# Требуется:\r\n",
    "# Написать функции count_odds(list) и count_events(list), \r\n",
    "# которые возвращают соответственно количество чётных \r\n",
    "# и количество нечётных чисел в списке.\r\n",
    "\r\n",
    "# Пример использования:\r\n",
    "# >>> count_odds([1, 2, 3, 4, 5])\r\n",
    "# Результат:\r\n",
    "# 2\r\n",
    "\r\n",
    "# Пример использования:\r\n",
    "# >>> count_events([1, 2, 3, 4, 5])\r\n",
    "# Результат:\r\n",
    "# 3"
   ],
   "outputs": [],
   "metadata": {}
  },
  {
   "cell_type": "code",
   "execution_count": 10,
   "source": [
    "# Решение задачи 6:\r\n",
    "\r\n",
    "def count_odds(list):\r\n",
    "\r\n",
    "    result = 0\r\n",
    "\r\n",
    "    for element in list:\r\n",
    "        if # ENTER YOUR CODE HERE\r\n",
    "            result = # ENTER YOUR CODE HERE\r\n",
    "\r\n",
    "    return result\r\n",
    "\r\n",
    "def count_events(list):\r\n",
    "\r\n",
    "    result = 0\r\n",
    "\r\n",
    "    for element in list:\r\n",
    "        if # ENTER YOUR CODE HERE\r\n",
    "            result = # ENTER YOUR CODE HERE\r\n",
    "\r\n",
    "    return result"
   ],
   "outputs": [],
   "metadata": {}
  },
  {
   "cell_type": "code",
   "execution_count": null,
   "source": [
    "# Проверка решения задачи 6:\r\n",
    "# >> 4\r\n",
    "\r\n",
    "count_odds([-100, -10, 1, 10, 100, 101])"
   ],
   "outputs": [],
   "metadata": {}
  },
  {
   "cell_type": "code",
   "execution_count": null,
   "source": [
    "# Проверка решения задачи 6:\r\n",
    "# >> 2\r\n",
    "\r\n",
    "count_events([-100, -10, 1, 10, 100, 101])"
   ],
   "outputs": [],
   "metadata": {}
  },
  {
   "cell_type": "code",
   "execution_count": 16,
   "source": [
    "# Задача 7\r\n",
    "\r\n",
    "# Дано:\r\n",
    "# Список list, элементами которого являются отрицательные, положительные целые числа и строки\r\n",
    "\r\n",
    "# Требуется:\r\n",
    "# Написать функции count_stats(list), \r\n",
    "# которые возвращают количество отрицательных, положительных чисел и \r\n",
    "# и количество строк через запятую\r\n",
    "\r\n",
    "# Пример использования:\r\n",
    "# >>> count_stats([1, '2', 'home', -4, -5])\r\n",
    "# Результат:\r\n",
    "# (2, 1, 2)"
   ],
   "outputs": [],
   "metadata": {}
  },
  {
   "cell_type": "code",
   "execution_count": 19,
   "source": [
    "# Решение задачи 7:\r\n",
    "\r\n",
    "def count_stats(list):\r\n",
    "\r\n",
    "    negative = 0\r\n",
    "    positive = 0\r\n",
    "    strings = 0\r\n",
    "\r\n",
    "    for element in list:\r\n",
    "        if type(element) == str:\r\n",
    "            strings = # ENTER YOR CODE HERE\r\n",
    "        elif # ENTER YOR CODE HERE\r\n",
    "            negative = # ENTER YOR CODE HERE\r\n",
    "        else:\r\n",
    "            positive =  # ENTER YOR CODE HERE\r\n",
    "\r\n",
    "    return negative, positive, strings"
   ],
   "outputs": [],
   "metadata": {}
  },
  {
   "cell_type": "code",
   "execution_count": null,
   "source": [
    "# Проверка решения задачи 7:\r\n",
    "# >> (1, 4, 2)\r\n",
    "\r\n",
    "count_odds([-100, '-10', 1, 10, 'tsu', 100, 101])"
   ],
   "outputs": [],
   "metadata": {}
  }
 ],
 "metadata": {
  "kernelspec": {
   "name": "python3",
   "display_name": "Python 3.8.10 64-bit"
  },
  "language_info": {
   "codemirror_mode": {
    "name": "ipython",
    "version": 3
   },
   "file_extension": ".py",
   "mimetype": "text/x-python",
   "name": "python",
   "nbconvert_exporter": "python",
   "pygments_lexer": "ipython3",
   "version": "3.8.10"
  },
  "interpreter": {
   "hash": "0ff1e1fc79923b7048a1b0a049e1f8c29b7247f7ffa1cbd35692250f92a41541"
  }
 },
 "nbformat": 4,
 "nbformat_minor": 5
}