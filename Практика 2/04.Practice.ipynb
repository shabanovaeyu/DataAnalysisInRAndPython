{
 "cells": [
  {
   "cell_type": "markdown",
   "source": [
    "# Элементы объектно-ориентированного программирования"
   ],
   "metadata": {}
  },
  {
   "cell_type": "code",
   "execution_count": 10,
   "source": [
    "# Python является объектно-ориентированным языком программирования.\r\n",
    "# Это означает, что каждый объект (функция, переменная) принадлежит определенному классу."
   ],
   "outputs": [],
   "metadata": {}
  },
  {
   "cell_type": "code",
   "execution_count": null,
   "source": [
    "# Пример 1.\r\n",
    "# Создадим объект - переменную x с типом int.\r\n",
    "# Этот объект принадлежит классу целых чисел.\r\n",
    "\r\n",
    "x = 1\r\n",
    "\r\n",
    "print(type(x))"
   ],
   "outputs": [],
   "metadata": {}
  },
  {
   "cell_type": "code",
   "execution_count": null,
   "source": [
    "# Пример 2.\r\n",
    "# Создадим объект - функцию my_fun(a, b).\r\n",
    "# Этот объект принадлежит классу 'function'.\r\n",
    "\r\n",
    "def my_fun(a, b):\r\n",
    "    return a + b\r\n",
    "\r\n",
    "print(type(my_fun))"
   ],
   "outputs": [],
   "metadata": {}
  },
  {
   "cell_type": "code",
   "execution_count": null,
   "source": [
    "# Пример 3.\r\n",
    "# Создадим объект - список my_list.\r\n",
    "# Этот объект принадлежит классу 'list'.\r\n",
    "\r\n",
    "my_list = [1, 2, 3]\r\n",
    "\r\n",
    "print(type(my_list))"
   ],
   "outputs": [],
   "metadata": {}
  },
  {
   "cell_type": "code",
   "execution_count": null,
   "source": [
    "# Замечание 1.\r\n",
    "# Создадим объект - переменную y = 2.\r\n",
    "# Этот объект, как и переменная x, принадлежит классу 'int'.\r\n",
    "# (!) Из одного класса 'int' получено два объекта (x и y), называемые экземлярами класса 'int'.\r\n",
    "# (!) Предназначение любого класса заключается в том, чтобы быть производителем таких экземпляров.\r\n",
    "\r\n",
    "y = 2\r\n",
    "\r\n",
    "print(type(y))"
   ],
   "outputs": [],
   "metadata": {}
  },
  {
   "cell_type": "code",
   "execution_count": 29,
   "source": [
    "# Классы 'int', 'function', 'list' являются встроенными.\r\n",
    "# Существует возможность создания пользовательских классов.\r\n",
    "# В простейшем случае для этого используется следующий синтаксис:\r\n",
    "\r\n",
    "# class <ИмяКласса>:\r\n",
    "#   <описание класса>"
   ],
   "outputs": [],
   "metadata": {}
  },
  {
   "cell_type": "code",
   "execution_count": null,
   "source": [
    "# Пример 1.\r\n",
    "\r\n",
    "class MyCat: # Создание класса с именем MyCat\r\n",
    "    pass       # Инструкция, позволяющая ничего не делать\r\n",
    "\r\n",
    "cat = MyCat # Создание экземпляра класса MyCat\r\n",
    "\r\n",
    "print(cat.__name__) # Вывод на экран имени класса, \r\n",
    "                    # которому принадлежит экземпляр cat"
   ],
   "outputs": [],
   "metadata": {}
  },
  {
   "cell_type": "code",
   "execution_count": null,
   "source": [
    "# У классов есть атрибуты (признаки) и методы.\r\n",
    "# Атрибуты и методы задаются внутри блока <описание класса>."
   ],
   "outputs": [],
   "metadata": {}
  },
  {
   "cell_type": "code",
   "execution_count": null,
   "source": [
    "# Для создания атрибута класса используется следующий синтаксис:\r\n",
    "\r\n",
    "# class <ИмяКласса>:\r\n",
    "#   <ИмяАтрибута> = <Значение>\r\n",
    "\r\n",
    "# (!) Атрибуты, прописываемые сразу после объявления класса,\r\n",
    "#     будут общими (одинаковыми) для всех создаваемых экземпляров"
   ],
   "outputs": [],
   "metadata": {}
  },
  {
   "cell_type": "code",
   "execution_count": null,
   "source": [
    "# Пример 1.\r\n",
    "\r\n",
    "class MyCat:\r\n",
    "\r\n",
    "    # Атрибуты, общие для всех \r\n",
    "    # экземпляров класса MyCat\r\n",
    "    \r\n",
    "    tail = 1 \r\n",
    "    paws = 4\r\n",
    "    ears = 2\r\n",
    "\r\n",
    "vasja = MyCat\r\n",
    "musja = MyCat\r\n",
    "\r\n",
    "# И у экземпляра vasja, и у экземпляра musja\r\n",
    "# одинаковое количество лап и ушей\r\n",
    "\r\n",
    "print('vasja.paws =', vasja.paws)\r\n",
    "print('musja.paws =', musja.paws)\r\n",
    "\r\n",
    "print('vasja.ears =', vasja.ears)\r\n",
    "print('musja.ears =', musja.ears)"
   ],
   "outputs": [],
   "metadata": {}
  },
  {
   "cell_type": "code",
   "execution_count": 38,
   "source": [
    "# Для того, чтобы была возможность наделять экземпляры класса\r\n",
    "# отличными атрибутами, используется метод __init__().\r\n",
    "# Его синтаксис имеет следующий вид:\r\n",
    "\r\n",
    "# class <ИмяКласса>:\r\n",
    "#   <ИмяАтрибута> = <Значение>\r\n",
    "#   \r\n",
    "#   def __init__(self, <Значение1>, <Значение2>):\r\n",
    "#       self.<ИмяАтрибута1> = <Значение1>\r\n",
    "#       self.<ИмяАтрибута2> = <Значение2>\r\n",
    "\r\n",
    "# (!) Объект self обозначает объект, для которого вызывается метод __init__().\r\n",
    "#     Вместо слова self можно использовать любое другое, но принято писать self."
   ],
   "outputs": [],
   "metadata": {}
  },
  {
   "cell_type": "code",
   "execution_count": 40,
   "source": [
    "# Пример 1. Создание класса\r\n",
    "\r\n",
    "class MyCat:\r\n",
    "\r\n",
    "    # Атрибуты, общие для всех \r\n",
    "    # экземпляров класса MyCat\r\n",
    "    \r\n",
    "    tail = 1 \r\n",
    "    paws = 4\r\n",
    "    ears = 2\r\n",
    "\r\n",
    "    def __init__(self, color, age, weight):\r\n",
    "\r\n",
    "        # Атрибуты, которые будут различаться\r\n",
    "        # у различных экземпляров класса MyCat\r\n",
    "        \r\n",
    "        self.color = color\r\n",
    "        self.age = age\r\n",
    "        self.weight = weight"
   ],
   "outputs": [],
   "metadata": {}
  },
  {
   "cell_type": "code",
   "execution_count": 29,
   "source": [
    "# Пример 1. Пример использования\r\n",
    "\r\n",
    "# Аргументы передаются в скобках \r\n",
    "# при создании экземпляров класса\r\n",
    "\r\n",
    "# Создан экземпляр класса MyCat vasja\r\n",
    "# c белой шерстью, 120 месяцев, 5 кг.\r\n",
    "\r\n",
    "vasja = MyCat(color='white', age=120, weight=5)\r\n",
    "\r\n",
    "# Создан экземпляр класса MyCat musja\r\n",
    "# c пятнистым окрасом, 12 месяцев, 2 кг.\r\n",
    "\r\n",
    "musja = MyCat(color='spotted', age=12, weight=2)"
   ],
   "outputs": [],
   "metadata": {}
  },
  {
   "cell_type": "code",
   "execution_count": null,
   "source": [
    "# Пример 1. Просмотр результатов\r\n",
    "\r\n",
    "# У экземпляров vasja и musja\r\n",
    "# разный цвет шерсти\r\n",
    "print('vasja.color =', vasja.color)\r\n",
    "print('musja.color =', musja.color)\r\n",
    "\r\n",
    "# У экземпляров vasja и musja\r\n",
    "# одинаковое количество лап\r\n",
    "print('vasja.paws =', vasja.paws)\r\n",
    "print('musja.paws =', musja.paws)"
   ],
   "outputs": [],
   "metadata": {}
  },
  {
   "cell_type": "code",
   "execution_count": null,
   "source": [
    "# Пример 1. Изменение значений атрибутов\r\n",
    "\r\n",
    "print('vasja.age =', vasja.age)\r\n",
    "vasja.age = 121\r\n",
    "print('vasja.age =', vasja.age)\r\n",
    "\r\n",
    "print('vasja.paws =', vasja.paws)\r\n",
    "vasja.paws = 3\r\n",
    "print('vasja.paws =', vasja.paws)"
   ],
   "outputs": [],
   "metadata": {}
  },
  {
   "cell_type": "code",
   "execution_count": null,
   "source": [
    "# Атрибуты классов и экземпляров - это их свойства.\r\n",
    "# Ex: Экземпляр vasja, его свойства: окрас, возраст, вес.\r\n",
    "\r\n",
    "# Методы экземпляров - это функции, \r\n",
    "# которым в качестве аргумента передается объект self.\r\n",
    "# То есть методы - это действия, которые можно совершить\r\n",
    "# с экземпляром класса.\r\n",
    "# Ex. Экземпляры класса MyCat, для них можно рассчитать \r\n",
    "# необходимое количество корма.\r\n",
    "\r\n",
    "# Для создания метоа используется следующий синтаксис:\r\n",
    "\r\n",
    "# class <ИмяКласса>:\r\n",
    "#   ...\r\n",
    "#   def <ИмяМетода>(self, ...):  \r\n",
    "#       <Блок кода>\r\n",
    "#       return <ИскомаяВеличина>"
   ],
   "outputs": [],
   "metadata": {}
  },
  {
   "cell_type": "code",
   "execution_count": 41,
   "source": [
    "# Пример 1.\r\n",
    "\r\n",
    "class MyCat:\r\n",
    "\r\n",
    "    tail = 1 \r\n",
    "    paws = 4\r\n",
    "    ears = 2\r\n",
    "\r\n",
    "    def __init__(self, color, age, weight):\r\n",
    "        \r\n",
    "        self.color = color\r\n",
    "        self.age = age\r\n",
    "        self.weight = weight\r\n",
    "\r\n",
    "    def food(self): # Метод food для рассчета необходимого кол-ва корма\r\n",
    "        \r\n",
    "        if self.weight <= 3:\r\n",
    "            result = 35\r\n",
    "        \r\n",
    "        elif 3 < self.weight <= 4:\r\n",
    "            result = 45\r\n",
    "        \r\n",
    "        else:\r\n",
    "            result = 50\r\n",
    "\r\n",
    "        return result"
   ],
   "outputs": [],
   "metadata": {}
  },
  {
   "cell_type": "code",
   "execution_count": null,
   "source": [
    "# Пример 1. Продолжение\r\n",
    "\r\n",
    "vasja = MyCat('white', 120, 5)\r\n",
    "musja = MyCat('spotted', 12, 2)\r\n",
    "\r\n",
    "print('Vasja need =', vasja.food())\r\n",
    "print('Musja need =', musja.food())"
   ],
   "outputs": [],
   "metadata": {}
  },
  {
   "cell_type": "code",
   "execution_count": null,
   "source": [
    "# Замечание 1. Атрибуты, это просто значения, которые мы присваиваем объекту, \r\n",
    "# а методы - это процедуры расчета некоторых новых значений на основе атрибутов.\r\n",
    "\r\n",
    "# Замечание 2. __init__() - базовый метод, который производит \"привязку\" \r\n",
    "# значений атрибутов к эземпляру клааса."
   ],
   "outputs": [],
   "metadata": {}
  },
  {
   "cell_type": "code",
   "execution_count": null,
   "source": [
    "# Ингда возникает необходимость создать похожие классы.\r\n",
    "# Например, классы MyCat и MyKitty могут описываться с помощью одинаковых атрибутов:\r\n",
    "# количество лап, ушей, окрас, возраст, вес и т.д. Поэтому при создании класса MyKitty\r\n",
    "# возникает дублирование кода. Во избежане этого для создания новых классов на основе  \r\n",
    "# существующих применяется принцип наследования.\r\n",
    "\r\n",
    "# От базового класса (суперкласса) наследуется вся его структура – атрибуты и методы. \r\n",
    "# Созданный класс-наследник называется производным классом. Наследование осуществляется \r\n",
    "# простым способом - в сбобках у класса-наследника указывается имя базового класса:\r\n",
    "\r\n",
    "# class <ИмяПроизводногоКласса>(<ИмяБазовогоКласса>):\r\n",
    "#   ..."
   ],
   "outputs": [],
   "metadata": {}
  },
  {
   "cell_type": "code",
   "execution_count": null,
   "source": [
    "# Пример 1.\r\n",
    "\r\n",
    "class MyKitty(MyCat): # Создание класса MyKitty на основе класса MyCat.\r\n",
    "    pass              # MyKitty в точности аналогичен классу MyCat.\r\n",
    "\r\n",
    "kitty = MyKitty('white', 2, 0.5)\r\n",
    "\r\n",
    "# Класс MyKitty пока поддерживает лишь те же\r\n",
    "# атрибуты и методы, что и класс MyCat:\r\n",
    "\r\n",
    "print('kitty has', kitty.ears, 'ears')\r\n",
    "print('kitty has', kitty.paws, 'paws')\r\n",
    "print(\"kitty's collor is\", kitty.color)\r\n",
    "print(\"kitty's age is\", kitty.age)\r\n",
    "print('kitty need', kitty.food())"
   ],
   "outputs": [],
   "metadata": {}
  },
  {
   "cell_type": "code",
   "execution_count": null,
   "source": [
    "# Пример 2. Расширение существующего метода.\r\n",
    "\r\n",
    "class MyKitty(MyCat):\r\n",
    "\r\n",
    "    def __init__(self, color, age, weight, gender):\r\n",
    "        super().__init__(color, age, weight)\r\n",
    "        self.gender = gender\r\n",
    "\r\n",
    "kitty = MyKitty('white', 2, 0.5, 'f')\r\n",
    "\r\n",
    "print(\"kitty's gender is\", kitty.gender)"
   ],
   "outputs": [],
   "metadata": {}
  },
  {
   "cell_type": "code",
   "execution_count": 36,
   "source": [
    "# Пример 3. Добавление нового метода в класс MyKitty.\r\n",
    "\r\n",
    "class MyKitty(MyCat):\r\n",
    "\r\n",
    "    # Метод 'отдать в добрые руки',\r\n",
    "    # возвращает True, если котенку \r\n",
    "    # не мельше двух месяцев\r\n",
    "\r\n",
    "    def give_into_good_hands(self):\r\n",
    "\r\n",
    "        if self.age >= 2:\r\n",
    "            result = True\r\n",
    "        else:\r\n",
    "            result = False\r\n",
    "\r\n",
    "        return result"
   ],
   "outputs": [],
   "metadata": {}
  },
  {
   "cell_type": "code",
   "execution_count": null,
   "source": [
    "# Пример 3. Продолжение.\r\n",
    "\r\n",
    "kitty = MyKitty('wight', 2, 0.5)\r\n",
    "kat = MyCat('wight', 120, 5)\r\n",
    "\r\n",
    "print('To give kitty into good hands:', kitty.give_into_good_hands())"
   ],
   "outputs": [],
   "metadata": {}
  },
  {
   "cell_type": "code",
   "execution_count": null,
   "source": [
    "# Пример 3. Замечание.\r\n",
    "\r\n",
    "# Для экземпляра kat метод give_into_good_hands недоступен.\r\n",
    "\r\n",
    "kat.give_into_good_hands()"
   ],
   "outputs": [],
   "metadata": {}
  },
  {
   "cell_type": "code",
   "execution_count": null,
   "source": [
    "# Задание 1.\r\n",
    "\r\n",
    "# Создать класс Schoolboy, имеющий следующие атрибуты:\r\n",
    "# year (год обучения: 1, 2, 3, ...)\r\n",
    "# math (оценка по математике)\r\n",
    "# info (оценка по информатике)\r\n",
    "# econ (оценка по экономике)\r\n",
    "\r\n",
    "# и поддерживающий следующие методы:\r\n",
    "# (1) Метод avg_score, возвращающий среднюю оценку школьника.\r\n",
    "# (2) Метод status, возвращающий стутас школьника ('отличник', \r\n",
    "# 'хорошист', 'троечник', 'двоечник') в зависимости от его оценок.\r\n",
    "\r\n",
    "# Пример использования:\r\n",
    "\r\n",
    "# petr = Schoolboy(7, 5, 4, 3)\r\n",
    "\r\n",
    "# petr.avg_score()\r\n",
    "# >> 4\r\n",
    "\r\n",
    "# petr.status()\r\n",
    "# >> 'троечник'"
   ],
   "outputs": [],
   "metadata": {}
  },
  {
   "cell_type": "code",
   "execution_count": 2,
   "source": [
    "# Задание 1. Решение.\r\n",
    "\r\n",
    "class Schoolboy:\r\n",
    "\r\n",
    "    def __init__(self, year, math, info, econ):\r\n",
    "\r\n",
    "        self.year = year \r\n",
    "        self.math = math \r\n",
    "        self.info = info\r\n",
    "        self.econ = econ\r\n",
    "\r\n",
    "    def avg_score(self):\r\n",
    "\r\n",
    "        result = (self.math + self.info + self.econ) / 3\r\n",
    "        \r\n",
    "        return result\r\n",
    "\r\n",
    "    def status(self):\r\n",
    "\r\n",
    "        scores = [self.math, self.info, self.econ]\r\n",
    "        \r\n",
    "        if 2 in scores: result = 'двоечник'\r\n",
    "        elif 3 in scores: result = 'троечник'\r\n",
    "        elif 4 in scores: result = 'хорошист'\r\n",
    "        else: result = 'отличник'\r\n",
    "        \r\n",
    "        return result"
   ],
   "outputs": [],
   "metadata": {}
  },
  {
   "cell_type": "code",
   "execution_count": null,
   "source": [
    "# Задание 1. Проверка решения.\r\n",
    "# >> 3.333...\r\n",
    "# >> 'троечник'\r\n",
    "\r\n",
    "petr = Schoolboy(7, 3, 4, 3)\r\n",
    "\r\n",
    "print(petr.avg_score())\r\n",
    "print(petr.status())"
   ],
   "outputs": [],
   "metadata": {}
  },
  {
   "cell_type": "code",
   "execution_count": null,
   "source": [
    "# Задание 2.\r\n",
    "\r\n",
    "# На основе базового класса Schoolboy создать производный класс Student.\r\n",
    "# Производный класс Student должен иметь следующие атрибуты:\r\n",
    "# year (год обучения: 1, 2, 3, 4)\r\n",
    "# math (оценка по математике)\r\n",
    "# info (оценка по информатике)\r\n",
    "# econ (оценка по экономике)\r\n",
    "\r\n",
    "# и поддерживать следующие методы:\r\n",
    "# (1) Метод avg_score, возвращающий среднюю оценку студента.\r\n",
    "# (2) Метод status, возвращающий стутас студента ('отличник', \r\n",
    "# 'хорошист', 'троечник', 'двоечник') в зависимости от его оценок.\r\n",
    "# (3) Метод nir, возвращающий тип научно-исследовательской работы,\r\n",
    "# которую сдает студент в конце года ('Нет' - для 1 курса, \r\n",
    "# 'Курсовая работа' - для 2 и 3 курса, 'ВКР' - для 4 курса.) \r\n",
    "# (4) Метод bursary, который возвращает размер стипендии студента\r\n",
    "# (2700 для хорошистов, 3200 для отличников, 0 для остальных).\r\n",
    "\r\n",
    "# Пример использования:\r\n",
    "\r\n",
    "# ivan = Student(2, 5, 4, 5)\r\n",
    "\r\n",
    "# ivan.avg_score()\r\n",
    "# >> 4.666...\r\n",
    "\r\n",
    "# ivan.status()\r\n",
    "# >> 'хорошист'\r\n",
    "\r\n",
    "# ivan.nir()\r\n",
    "# >> 'Курсовая работа'\r\n",
    "\r\n",
    "# ivan.bursary()\r\n",
    "# >> 2700"
   ],
   "outputs": [],
   "metadata": {}
  },
  {
   "cell_type": "code",
   "execution_count": 4,
   "source": [
    "# Задание 2. Решение.\r\n",
    "\r\n",
    "class Student(Schoolboy):\r\n",
    "\r\n",
    "    def nir(self):\r\n",
    "\r\n",
    "        if self.year == 1: result = 'Нет'\r\n",
    "        elif self.year in [2, 3]: result = 'Курсовая работа'\r\n",
    "        else: result = 'ВКР'\r\n",
    "\r\n",
    "        return result\r\n",
    "\r\n",
    "    def bursary(self):\r\n",
    "        \r\n",
    "        if self.status() == 'отличник': result = 3200\r\n",
    "        elif self.status() == 'хорошист': result = 2700\r\n",
    "        else: result = 0\r\n",
    "\r\n",
    "        return result"
   ],
   "outputs": [],
   "metadata": {}
  },
  {
   "cell_type": "code",
   "execution_count": null,
   "source": [
    "# Задание 2. Проверка решения.\r\n",
    "# >> 4.333...\r\n",
    "# >> 'хорошист'\r\n",
    "# >> 'Курсовая работа'\r\n",
    "# >> 2700\r\n",
    "\r\n",
    "ivan = Student(3, 5, 4, 4)\r\n",
    "\r\n",
    "print(ivan.avg_score())\r\n",
    "print(ivan.status())\r\n",
    "print(ivan.nir())\r\n",
    "print(ivan.bursary())"
   ],
   "outputs": [],
   "metadata": {}
  },
  {
   "cell_type": "markdown",
   "source": [
    "# Работа с файлами"
   ],
   "metadata": {}
  },
  {
   "cell_type": "code",
   "execution_count": null,
   "source": [
    "# В простейшем случае для чтения текстового файла \r\n",
    "# используется следующая конструкция:\r\n",
    "\r\n",
    "# file = open(filename, mode) # (1)\r\n",
    "# \r\n",
    "# content = file.read() # (2)\r\n",
    "# print(content) # (3)\r\n",
    "# \r\n",
    "# file.close() # (4)\r\n",
    "\r\n",
    "# (1) - открытие файла\r\n",
    "# (2) - чтение файла целиком\r\n",
    "# (3) - вывод на экран содержимого\r\n",
    "# (4) - закрытие файла\r\n",
    "\r\n",
    "# Функция open принимает два аргумента: имя файла и режим (mode).\r\n",
    "# Возможные значения аргумента mode:\r\n",
    "# 'r' - открыть файл только для чтения;\r\n",
    "# 'w' - открыть файл для записи в него данных;\r\n",
    "# 'а' - открыть файл для записи данных в конец файла;\r\n",
    "# 'r+' - открыть файл для чтения и записи данных."
   ],
   "outputs": [],
   "metadata": {}
  },
  {
   "cell_type": "code",
   "execution_count": null,
   "source": [
    "# Пример 1. Чтение файла text.txt\r\n",
    "\r\n",
    "file = open('text.txt', 'r') # открытие файла на чтение\r\n",
    "\r\n",
    "content = file.read()\r\n",
    "print(content)\r\n",
    "\r\n",
    "file.close()"
   ],
   "outputs": [],
   "metadata": {}
  },
  {
   "cell_type": "code",
   "execution_count": null,
   "source": [
    "# Пример 1 может быть переписан более компактно\r\n",
    "# с помощью менеджера контекста:\r\n",
    "\r\n",
    "with open('text.txt') as file:\r\n",
    "    print(file.read())"
   ],
   "outputs": [],
   "metadata": {}
  },
  {
   "cell_type": "code",
   "execution_count": null,
   "source": [
    "# Метод read() позволяет прочитать файл целиком. Однако часто \r\n",
    "# возникает необходимость прочитать файл \"по-другому\".\r\n",
    "# Тогда вместо read() используется один из следующих методов:\r\n",
    "\r\n",
    "# read() - читает содержимое всего файла;\r\n",
    "# readline() - считывает из файла одну строку (в конце строки \\n);\r\n",
    "# readlines() - возвращает содержимое файла в виде списка строк."
   ],
   "outputs": [],
   "metadata": {}
  },
  {
   "cell_type": "code",
   "execution_count": null,
   "source": [
    "# Пример 2. Метод readline(): построчное чтение файла\r\n",
    "\r\n",
    "file = open('text.txt', 'r')\r\n",
    "\r\n",
    "line = file.readline() # Первая строка\r\n",
    "\r\n",
    "while line != '':\r\n",
    "    print(line)\r\n",
    "    line = file.readline()\r\n",
    "\r\n",
    "file.close()"
   ],
   "outputs": [],
   "metadata": {}
  },
  {
   "cell_type": "code",
   "execution_count": null,
   "source": [
    "# Пример 2 может быть переписан более компактно:\r\n",
    "# с помощью менеджера контекста\r\n",
    "\r\n",
    "with open('text.txt') as file:\r\n",
    "    for line in file:\r\n",
    "        print(line)\r\n",
    "\r\n",
    "# или еще компактнее:\r\n",
    "\r\n",
    "# for line in open('text.txt', 'r'):\r\n",
    "#     print(line)"
   ],
   "outputs": [],
   "metadata": {}
  },
  {
   "cell_type": "code",
   "execution_count": 17,
   "source": [
    "# Пример 3. Метод readlines(): чтение файла как списка строк\r\n",
    "\r\n",
    "file = open('text.txt', 'r')\r\n",
    "\r\n",
    "lines = file.readlines() # Список всех строк файла\r\n",
    "print(lines)\r\n",
    "\r\n",
    "# for line in lines:\r\n",
    "#     print(line)\r\n",
    "\r\n",
    "file.close()"
   ],
   "outputs": [
    {
     "output_type": "stream",
     "name": "stdout",
     "text": [
      "['col1    col2\\n', '1   a\\n', '2   b\\n', '3   c']\n"
     ]
    }
   ],
   "metadata": {}
  },
  {
   "cell_type": "code",
   "execution_count": null,
   "source": [
    "# Запись данных в файл в простейшем случае \r\n",
    "# осуществляется по схеме:\r\n",
    "\r\n",
    "# file = open(filename, mode)\r\n",
    "# \r\n",
    "# file.writelines(string + '\\n') # (1)\r\n",
    "# file.writelines(string + '\\n') # (2)\r\n",
    "# ...\r\n",
    "# file.writelines(string) # (3)\r\n",
    "\r\n",
    "# file.close()\r\n",
    "\r\n",
    "# (1) - Запись первой строки с символом '\\n' в конце.\r\n",
    "# (2) - Запись второй строки с символом '\\n' в конце.\r\n",
    "# (3) - Запись последней строки без символа '\\n'."
   ],
   "outputs": [],
   "metadata": {}
  },
  {
   "cell_type": "code",
   "execution_count": 26,
   "source": [
    "# Создание нового файла и сохранение в него информации.\r\n",
    "\r\n",
    "f = open('test.txt', 'w')  # открытие файла в текстовом режиме для записи\r\n",
    "\r\n",
    "f.writelines(str(1))  \r\n",
    "f.writelines('\\n')  \r\n",
    "f.writelines(str(2))         \r\n",
    "\r\n",
    "f.close()    "
   ],
   "outputs": [],
   "metadata": {}
  },
  {
   "cell_type": "code",
   "execution_count": 56,
   "source": [
    "# Пример 4. Запись данных в файл.\r\n",
    "# Вариант 1. Прописывание каждой строки вручную.\r\n",
    "\r\n",
    "file = open('test_1.txt', 'w')\r\n",
    "\r\n",
    "file.writelines('w' + '\\n')\r\n",
    "file.writelines('o' + '\\n')\r\n",
    "file.writelines('r' + '\\n')\r\n",
    "file.writelines('d' + '\\n')\r\n",
    "\r\n",
    "file.close()"
   ],
   "outputs": [],
   "metadata": {}
  },
  {
   "cell_type": "code",
   "execution_count": 57,
   "source": [
    "# Пример 4. Вариант 2. Запись данных в файл.\r\n",
    "# Вариант 2. Использование цикла.\r\n",
    "\r\n",
    "file = open('test_2.txt', 'w')\r\n",
    "\r\n",
    "for letter in 'word':\r\n",
    "    file.writelines(letter + '\\n')\r\n",
    "\r\n",
    "file.close()"
   ],
   "outputs": [],
   "metadata": {}
  },
  {
   "cell_type": "code",
   "execution_count": 58,
   "source": [
    "# Пример 4. Запись данных в файл.\r\n",
    "# Вариант 3. Использование менеджера контекста.\r\n",
    "\r\n",
    "with open('test_3.txt', 'w') as file:\r\n",
    "    for letter in 'word':\r\n",
    "        file.writelines(letter + '\\n')"
   ],
   "outputs": [],
   "metadata": {}
  },
  {
   "cell_type": "code",
   "execution_count": 36,
   "source": [
    "# Пример 5*. Записать в файл tab_1.txt \r\n",
    "# таблицу квадратов чисел от 1 до 20.\r\n",
    "\r\n",
    "num = 1\r\n",
    "\r\n",
    "with open('tab_1.txt', 'w') as file:\r\n",
    "\r\n",
    "    # Запись строки заголовков\r\n",
    "    # Символ '\\t' - разделитель столбцов\r\n",
    "    file.writelines('Number' + '\\t' + 'Number^2' + '\\n')\r\n",
    "    \r\n",
    "    while num < 20:\r\n",
    "        string = str(num) + '\\t' + str(num**2) + '\\n'\r\n",
    "        file.writelines(string)\r\n",
    "        num += 1\r\n",
    "\r\n",
    "    string = str(num) + '\\t' + str(num**2)\r\n",
    "    file.writelines(string)"
   ],
   "outputs": [],
   "metadata": {}
  },
  {
   "cell_type": "code",
   "execution_count": null,
   "source": [
    "# Модуль pickle\r\n",
    "\r\n",
    "# Модуль pickle позволяет сохранить в файле любые объекты Python.\r\n",
    "\r\n",
    "# Два основных метода модуля pickle:\r\n",
    "#  dump(object, file) - сохраняет объект object в файле file_object;\r\n",
    "#  object = load(file) - загружает объект object из файла file_object."
   ],
   "outputs": [],
   "metadata": {}
  },
  {
   "cell_type": "code",
   "execution_count": 37,
   "source": [
    "import pickle"
   ],
   "outputs": [],
   "metadata": {}
  },
  {
   "cell_type": "code",
   "execution_count": null,
   "source": [
    "# Вспоминаем о наличие класса MyCat\r\n",
    "\r\n",
    "cat = MyCat('white', 120, 5)\r\n",
    "print('Cat need', cat.food())\r\n",
    "\r\n",
    "# Сохранение объекта cat в файле.\r\n",
    "with open('cat.txt', mode='bw') as file:\r\n",
    "    pickle.dump(cat, file)"
   ],
   "outputs": [],
   "metadata": {}
  },
  {
   "cell_type": "code",
   "execution_count": 46,
   "source": [
    "# Чтение объекта cat из файла.\r\n",
    "with open('cat.txt', mode='br') as file:\r\n",
    "    cat = pickle.load(file)"
   ],
   "outputs": [],
   "metadata": {}
  },
  {
   "cell_type": "code",
   "execution_count": null,
   "source": [
    "print('Cat need', cat.food())"
   ],
   "outputs": [],
   "metadata": {}
  },
  {
   "cell_type": "markdown",
   "source": [
    "# Обработка исключительных ситуаций"
   ],
   "metadata": {}
  },
  {
   "cell_type": "code",
   "execution_count": null,
   "source": [
    "# Пример 1. Исключение AttributeError\r\n",
    "\r\n",
    "cat.give_into_good_hands() # Ошибка возникает из-за того, что\r\n",
    "                           # у объекта cat нет метода give_into...\r\n",
    "\r\n",
    "print('I want to print this message.') # Этот код не выполнится из-за ошибки выше."
   ],
   "outputs": [],
   "metadata": {}
  },
  {
   "cell_type": "code",
   "execution_count": null,
   "source": [
    "# Пример 2. Исключение ZeroDivisionError\r\n",
    "\r\n",
    "2 / 0 # Ошибка возникает из-за \r\n",
    "      # невозможности деления на 0\r\n",
    "\r\n",
    "print('I really want to print this message.') # Этот код не выполнится из-за ошибки выше."
   ],
   "outputs": [],
   "metadata": {}
  },
  {
   "cell_type": "code",
   "execution_count": null,
   "source": [
    "# Пример 3. Исключение ValueError\r\n",
    "\r\n",
    "int('a') # Невозможно преобразовать строку к целому типу\r\n",
    "\r\n",
    "print('But I really want to print this message.') # Этот код не выполнится из-за ошибки выше."
   ],
   "outputs": [],
   "metadata": {}
  },
  {
   "cell_type": "code",
   "execution_count": null,
   "source": [
    "# Исключительные ситуации можно перехватывать с целью выполнения определённых \r\n",
    "# действий, связанных с возникшей ошибкой или чтобы просто их игнорировать. \r\n",
    "# Для этих целей в языке Python предназначена инструкция \r\n",
    "# try - except - else - finally. \r\n",
    "# Синтаксис инструкции следующий:\r\n",
    "\r\n",
    "# try:\r\n",
    "#     # блок, в котором может произойти исключение\r\n",
    "# except Exception1:\r\n",
    "#     # блок, отвечающий за обработку исключения Exception1\r\n",
    "# except Exception2, Exception3:\r\n",
    "#     # блок, отвечающий за обработку любого \r\n",
    "#     # из исключений Exception2 или Exception3\r\n",
    "# else:\r\n",
    "#     # блок, который выполняется если исключений не возникло\r\n",
    "# finally:\r\n",
    "#     # блок, отвечающий за выполнение завершающих операций, \r\n",
    "#     # которые необходимо выполнить независимо от того, \r\n",
    "#     # произошло ислючение или нет\r\n",
    "\r\n",
    "# или упрощенный вариант:\r\n",
    "\r\n",
    "# try:\r\n",
    "#     # блок, в котором может произойти исключение\r\n",
    "# except:\r\n",
    "#     # блок, который выполняется, если произошло ислючение (неважно какое)"
   ],
   "outputs": [],
   "metadata": {}
  },
  {
   "cell_type": "code",
   "execution_count": null,
   "source": [
    "# Пример 4.\r\n",
    "# В файле 2nums.txt две строки. В каждой строке - число (целое или вещественное) или текст.\r\n",
    "# Вычислить отношение этих чисел, если возможно, иначе вывести сообщение 'oops'."
   ],
   "outputs": [],
   "metadata": {}
  },
  {
   "cell_type": "code",
   "execution_count": null,
   "source": [
    "# Предварительное замечание 1.\r\n",
    "\r\n",
    "with open('2nums.txt') as file:\r\n",
    "    line = file.readline()\r\n",
    "    print(line)\r\n",
    "    print(type(line)) # содержимое файла имеет строковый тип,\r\n",
    "                      # даже если это \"число\""
   ],
   "outputs": [],
   "metadata": {}
  },
  {
   "cell_type": "code",
   "execution_count": null,
   "source": [
    "# Предварительное замечание 2.\r\n",
    "\r\n",
    "int('2') # так можно\r\n",
    "# int('2.0') # так нельзя\r\n",
    "float('2.0') # так можно\r\n",
    "float('2') # так можно\r\n",
    "\r\n",
    "# Разумнее любое строку-число переводить не в тип int, а в тип float."
   ],
   "outputs": [],
   "metadata": {}
  },
  {
   "cell_type": "code",
   "execution_count": null,
   "source": [
    "# Пример 4. Продолжение.\r\n",
    "\r\n",
    "with open('2nums.txt') as file:\r\n",
    "    num1 = file.readline() # первое число\r\n",
    "    num2 = file.readline() # второе число\r\n",
    "\r\n",
    "    try: \r\n",
    "        # попытка преобразовать числа к типу float\r\n",
    "        num1 = float(num1)\r\n",
    "        num2 = float(num2)\r\n",
    "\r\n",
    "        # если все хорошо, \r\n",
    "        # то будет возможно выполнить\r\n",
    "        # этот код\r\n",
    "        result = num1 / num2\r\n",
    "\r\n",
    "    except: \r\n",
    "        # если в части try возникло исключение\r\n",
    "        # выполняется эта часть кода\r\n",
    "        result = 'oops'\r\n",
    "\r\n",
    "print(result)"
   ],
   "outputs": [],
   "metadata": {}
  },
  {
   "cell_type": "markdown",
   "source": [
    "# Домашнее задание"
   ],
   "metadata": {}
  },
  {
   "cell_type": "code",
   "execution_count": 83,
   "source": [
    "# Задача 1\r\n",
    "\r\n",
    "# Дано: \r\n",
    "# Текстовый файл с именем filename.\r\n",
    "\r\n",
    "# Требуется:\r\n",
    "# Написать функцию print_file(filename), \r\n",
    "# которая читает содержимое файла и выводит его на экран.\r\n",
    "\r\n",
    "# Пример использования:\r\n",
    "# >>> print_file('data/task1/text.txt')\r\n",
    "# Результат:\r\n",
    "# In faith I do not love thee with mine eyes,\r\n",
    "# For they in thee a thousand errors note,\r\n",
    "# But 'tis my heart that loves what they despise,\r\n",
    "# Who in despite of view is pleased to dote."
   ],
   "outputs": [],
   "metadata": {}
  },
  {
   "cell_type": "code",
   "execution_count": 86,
   "source": [
    "# Задача 1. Решение.\r\n",
    "\r\n",
    "def print_file(filename):\r\n",
    "\r\n",
    "    with open(filename, 'r') as file:\r\n",
    "        content = # ENTER YOUR CODE HERE\r\n",
    "        \r\n",
    "    print(content)"
   ],
   "outputs": [],
   "metadata": {}
  },
  {
   "cell_type": "code",
   "execution_count": null,
   "source": [
    "# Задача 1. Проверка.\r\n",
    "\r\n",
    "# Ответ:\r\n",
    "# In faith I do not love thee with mine eyes,\r\n",
    "# For they in thee a thousand errors note,\r\n",
    "# But 'tis my heart that loves what they despise,\r\n",
    "# Who in despite of view is pleased to dote.\r\n",
    "\r\n",
    "print_file('data/task1/text.txt')"
   ],
   "outputs": [],
   "metadata": {}
  },
  {
   "cell_type": "code",
   "execution_count": 88,
   "source": [
    "# Задача 2\r\n",
    "\r\n",
    "# Дано: \r\n",
    "# Текстовый файл с именем filename.\r\n",
    "\r\n",
    "# Требуется:\r\n",
    "# Написать функцию count_lines(filename), \r\n",
    "# которая возвращает количество строк в текстовом файле.\r\n",
    "\r\n",
    "# Пример использования:\r\n",
    "# >>> count_lines('data/task2/text.txt')\r\n",
    "# Результат:\r\n",
    "# 54"
   ],
   "outputs": [],
   "metadata": {}
  },
  {
   "cell_type": "code",
   "execution_count": 68,
   "source": [
    "# Задача 2. Решение.\r\n",
    "\r\n",
    "def count_lines(filename):\r\n",
    "\r\n",
    "    with open(filename, 'r') as file:\r\n",
    "        lines = file.readlines()\r\n",
    "        \r\n",
    "        result = 0\r\n",
    "        for line in lines: \r\n",
    "            result = # ENTER YOUR CODE HERE\r\n",
    "    \r\n",
    "    return result"
   ],
   "outputs": [],
   "metadata": {}
  },
  {
   "cell_type": "code",
   "execution_count": null,
   "source": [
    "# Задача 2. Проверка.\r\n",
    "\r\n",
    "# Ответ:\r\n",
    "# 54\r\n",
    "\r\n",
    "count_lines('data/task2/text.txt')"
   ],
   "outputs": [],
   "metadata": {}
  },
  {
   "cell_type": "code",
   "execution_count": null,
   "source": [
    "# Задача 3.\r\n",
    "\r\n",
    "# Дано: \r\n",
    "# Текстовый файл с именем filename, \r\n",
    "# в каждой строке которого записано число.\r\n",
    "\r\n",
    "# Требуется:\r\n",
    "# Написать функцию get_sum(filename), \r\n",
    "# которая возвращает сумму чисел в файле.\r\n",
    "\r\n",
    "# Пример использования:\r\n",
    "# >>> get_sum('data/task3/datafile.txt')\r\n",
    "# Результат:\r\n",
    "# 49958.64999999995"
   ],
   "outputs": [],
   "metadata": {}
  },
  {
   "cell_type": "code",
   "execution_count": 66,
   "source": [
    "# Задача 3. Решение.\r\n",
    "\r\n",
    "def get_sum(filename):\r\n",
    "\r\n",
    "    with open(filename, 'r') as file:\r\n",
    "\r\n",
    "        result = 0\r\n",
    "\r\n",
    "        lines = file.readlines()\r\n",
    "        for line in lines:\r\n",
    "            num = # ENTER YOUR CODE HERE\r\n",
    "            result = # ENTER YOUR CODE HERE\r\n",
    "\r\n",
    "    return result"
   ],
   "outputs": [],
   "metadata": {}
  },
  {
   "cell_type": "code",
   "execution_count": null,
   "source": [
    "# Задача 3. Проверка.\r\n",
    "\r\n",
    "# Ответ:\r\n",
    "# 49958.64999999995\r\n",
    "\r\n",
    "get_sum('data/task3/datafile.txt')"
   ],
   "outputs": [],
   "metadata": {}
  },
  {
   "cell_type": "code",
   "execution_count": null,
   "source": [
    "# Задача 4\r\n",
    "\r\n",
    "# Дано: \r\n",
    "# Текстовый файл с именем filename, \r\n",
    "# в каждой строке которого записано число.\r\n",
    "\r\n",
    "# Требуется:\r\n",
    "# Написать функции get_min(filename) и get_max(filename), \r\n",
    "# которые возвращают соответственно минимальное и максимальное числа в файле.\r\n",
    "\r\n",
    "# Пример использования:\r\n",
    "# >>> get_min('data/task4/datafile.txt')\r\n",
    "# Результат:\r\n",
    "# -99.0\r\n",
    "# >>> get_max('data/task4/datafile.txt')\r\n",
    "# Результат:\r\n",
    "# 103.0"
   ],
   "outputs": [],
   "metadata": {}
  },
  {
   "cell_type": "code",
   "execution_count": 5,
   "source": [
    "# Задача 4. Решение.\r\n",
    "\r\n",
    "def get_min(filename):\r\n",
    "\r\n",
    "    with open(filename, 'r') as file:\r\n",
    "        line = file.readline()\r\n",
    "        result = float(line)\r\n",
    "        \r\n",
    "        while line != '':\r\n",
    "            num = # ENTER YOUR CODE HERE\r\n",
    "            if num < result: \r\n",
    "                result = # ENTER YOUR CODE HERE\r\n",
    "            line = # ENTER YOUR CODE HERE\r\n",
    "    \r\n",
    "    return result\r\n",
    "\r\n",
    "def get_max(filename):\r\n",
    "\r\n",
    "    # ENTER YOUR CODE HERE\r\n",
    "    \r\n",
    "    return result"
   ],
   "outputs": [],
   "metadata": {}
  },
  {
   "cell_type": "code",
   "execution_count": null,
   "source": [
    "# Задача 4. Проверка.\r\n",
    "\r\n",
    "# Ответы:\r\n",
    "# -99.0\r\n",
    "# 103.0\r\n",
    "\r\n",
    "print(get_min('data/task4/datafile.txt'))\r\n",
    "print(get_max('data/task4/datafile.txt'))"
   ],
   "outputs": [],
   "metadata": {}
  },
  {
   "cell_type": "code",
   "execution_count": 38,
   "source": [
    "# Задача 5\r\n",
    "\r\n",
    "# Дано: \r\n",
    "# Текстовый файл с именем filename, \r\n",
    "# в каждой строке которого записано целое число.\r\n",
    "\r\n",
    "# Требуется:\r\n",
    "# Написать функции count_odds(filename) и count_events(filename), \r\n",
    "# которые возвращают соответственно количество нечётных \r\n",
    "# и количество чётных чисел в файле.\r\n",
    "\r\n",
    "# Пример использования:\r\n",
    "# >>> count_odds('data/task5/datafile.txt')\r\n",
    "# Результат:\r\n",
    "# 44\r\n",
    "# >>> count_events('data/task5/datafile.txt')\r\n",
    "# Результат:\r\n",
    "# 56"
   ],
   "outputs": [],
   "metadata": {}
  },
  {
   "cell_type": "code",
   "execution_count": 32,
   "source": [
    "# Задача 5. Пример решения.\r\n",
    "\r\n",
    "def count_odds(filename):\r\n",
    "\r\n",
    "    with open(filename, 'r') as file:\r\n",
    "        result = 0\r\n",
    "        lines = # ENTER YOUR CODE HERE\r\n",
    "        \r\n",
    "        for line in lines:\r\n",
    "            num = int(line)\r\n",
    "\r\n",
    "            if # ENTER YOUR CODE HERE \r\n",
    "                result = # ENTER YOUR CODE HERE\r\n",
    "    \r\n",
    "    return result\r\n",
    "\r\n",
    "def count_events(filename):\r\n",
    "\r\n",
    "    # ENTER YOUR CODE HERE\r\n",
    "    \r\n",
    "    return result"
   ],
   "outputs": [],
   "metadata": {}
  },
  {
   "cell_type": "code",
   "execution_count": null,
   "source": [
    "# Задача 5. Проверка.\r\n",
    "\r\n",
    "# Ответы:\r\n",
    "# 44\r\n",
    "# 56\r\n",
    "\r\n",
    "print(count_odds('data/task5/datafile.txt'))\r\n",
    "print(count_events('data/task5/datafile.txt'))"
   ],
   "outputs": [],
   "metadata": {}
  },
  {
   "cell_type": "code",
   "execution_count": null,
   "source": [
    "# Задача 6\r\n",
    "\r\n",
    "# Дано: \r\n",
    "# Текстовый файл с именем filename, \r\n",
    "# в каждой строке которого записано либо положительное число, \r\n",
    "# либо отрицательное число, либо текст, не являющийся числом.\r\n",
    "\r\n",
    "# Требуется:\r\n",
    "# Написать функции count_positive(filename), count_negative(filename) \r\n",
    "# и count_text(filename), которые возвращают соответственно количество\r\n",
    "# положительных чисел, количество отрицательных чисел и количество \r\n",
    "# \"текстовых\" строк (строк, не содержащих чисел).\r\n",
    "\r\n",
    "# Пример использования:\r\n",
    "# >>> count_positive('data/task6/datafile.txt')\r\n",
    "# Результат:\r\n",
    "# 89\r\n",
    "# >>> count_negative('data/task6/datafile.txt')\r\n",
    "# Результат:\r\n",
    "# 48\r\n",
    "# >>> count_text('data/task6/datafile.txt')\r\n",
    "# Результат:\r\n",
    "# 63"
   ],
   "outputs": [],
   "metadata": {}
  },
  {
   "cell_type": "code",
   "execution_count": 53,
   "source": [
    "def count_positive(filename):\r\n",
    "\r\n",
    "    with open(filename, 'r') as file:\r\n",
    "        result = 0\r\n",
    "        lines = # ENTER YOUR CODE HERE\r\n",
    "\r\n",
    "        for line in lines:\r\n",
    "            try:\r\n",
    "                num = # ENTER YOUR CODE HERE\r\n",
    "                if # ENTER YOUR CODE HERE\r\n",
    "                    result = # ENTER YOUR CODE HERE\r\n",
    "            except:\r\n",
    "                pass\r\n",
    "    \r\n",
    "    return result\r\n",
    "\r\n",
    "def count_negative(filename):\r\n",
    "\r\n",
    "    # ENTER YOUR CODE HERE\r\n",
    "    \r\n",
    "    return result\r\n",
    "\r\n",
    "def count_text(filename):\r\n",
    "\r\n",
    "    with open(filename, 'r') as file:\r\n",
    "        result = 0\r\n",
    "        lines = # ENTER YOUR CODE HERE\r\n",
    "\r\n",
    "        for line in lines:\r\n",
    "            try:\r\n",
    "                num = # ENTER YOUR CODE HERE\r\n",
    "            except:\r\n",
    "                result = # ENTER YOUR CODE HERE\r\n",
    "    \r\n",
    "    return result"
   ],
   "outputs": [],
   "metadata": {}
  },
  {
   "cell_type": "code",
   "execution_count": null,
   "source": [
    "# Задача 6. Проверка.\r\n",
    "\r\n",
    "# Ответы:\r\n",
    "# 89\r\n",
    "# 48\r\n",
    "# 63\r\n",
    "\r\n",
    "print(count_positive('data/task6/datafile.txt'))\r\n",
    "print(count_negative('data/task6/datafile.txt'))\r\n",
    "print(count_text('data/task6/datafile.txt'))"
   ],
   "outputs": [],
   "metadata": {}
  },
  {
   "cell_type": "code",
   "execution_count": null,
   "source": [
    "# Задача 7\r\n",
    "\r\n",
    "# Дано: \r\n",
    "# Текстовый файл с именем filename, \r\n",
    "# в каждой строке которого записано положительное число, \r\n",
    "# либо отрицательное число, либо текст, не являющийся числом.\r\n",
    "\r\n",
    "# Требуется:\r\n",
    "# Написать функцию separate_data(filename, p_filename, n_filename, t_filename),\r\n",
    "# которая все положительные числа записывает в файл с именем p_filename,\r\n",
    "# все отрицательные числа записывает в файл с именем n_filename,\r\n",
    "# а \"текстовые\" строки - в файл с именем t_filename.\r\n",
    "\r\n",
    "# Пример использования:\r\n",
    "# >>> separate_data('data/task7/datafile.txt', \r\n",
    "# ...               'data/task7/numbers_positive.txt', \r\n",
    "# ...               'data/task7/numbers_negative.txt', \r\n",
    "# ...               'data/task7/text.txt')\r\n",
    "# >>>\r\n",
    "# >>> get_sum('data/task7/numbers_positive.txt')\r\n",
    "# \r\n",
    "# >>> get_sum('data/task7/numbers_negative.txt')\r\n",
    "# \r\n",
    "# >>> count_lines('data/task7/text.txt')\r\n",
    "# "
   ],
   "outputs": [],
   "metadata": {}
  },
  {
   "cell_type": "code",
   "execution_count": 64,
   "source": [
    "# Задача 7. Решение.\r\n",
    "\r\n",
    "def separate_data(\r\n",
    "                  filename, \r\n",
    "                  p_filename, \r\n",
    "                  n_filename, \r\n",
    "                  t_filename\r\n",
    "                  ):\r\n",
    "    \r\n",
    "    file = open(filename, 'r')\r\n",
    "    p_file = # ENTER YOUR CODE HERE\r\n",
    "    n_file = # ENTER YOUR CODE HERE\r\n",
    "    t_file = # ENTER YOUR CODE HERE\r\n",
    "\r\n",
    "    lines = # ENTER YOUR CODE HERE\r\n",
    "    for line in lines:\r\n",
    "        try:\r\n",
    "            num = # ENTER YOUR CODE HERE\r\n",
    "            if # ENTER YOUR CODE HERE\r\n",
    "                # ENTER YOUR CODE HERE\r\n",
    "            else:\r\n",
    "                # ENTER YOUR CODE HERE\r\n",
    "        except:\r\n",
    "            # ENTER YOUR CODE HERE\r\n",
    "\r\n",
    "    file.close()\r\n",
    "    p_file.close()\r\n",
    "    n_file.close()\r\n",
    "    t_file.close()\r\n",
    "    \r\n",
    "    return 'Successful!'"
   ],
   "outputs": [],
   "metadata": {}
  },
  {
   "cell_type": "code",
   "execution_count": null,
   "source": [
    "# Задача 7. Проверка.\r\n",
    "\r\n",
    "# Ответы:\r\n",
    "# 5076.730000000001\r\n",
    "# -2570.19\r\n",
    "# 63\r\n",
    "\r\n",
    "separate_data('data/task7/datafile.txt', \r\n",
    "              'data/task7/numbers_positive.txt', \r\n",
    "              'data/task7/numbers_negative.txt', \r\n",
    "              'data/task7/text.txt')\r\n",
    "\r\n",
    "print(get_sum('data/task7/numbers_positive.txt'))\r\n",
    "print(get_sum('data/task7/numbers_negative.txt'))\r\n",
    "print(count_lines('data/task7/text.txt'))"
   ],
   "outputs": [],
   "metadata": {}
  }
 ],
 "metadata": {
  "orig_nbformat": 4,
  "language_info": {
   "name": "python",
   "version": "3.8.10",
   "mimetype": "text/x-python",
   "codemirror_mode": {
    "name": "ipython",
    "version": 3
   },
   "pygments_lexer": "ipython3",
   "nbconvert_exporter": "python",
   "file_extension": ".py"
  },
  "kernelspec": {
   "name": "python3",
   "display_name": "Python 3.8.10 64-bit"
  },
  "interpreter": {
   "hash": "0ff1e1fc79923b7048a1b0a049e1f8c29b7247f7ffa1cbd35692250f92a41541"
  }
 },
 "nbformat": 4,
 "nbformat_minor": 2
}