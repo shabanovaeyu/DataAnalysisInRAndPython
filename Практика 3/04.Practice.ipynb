{
 "cells": [
  {
   "cell_type": "markdown",
   "source": [
    "##### Задание 0."
   ],
   "metadata": {}
  },
  {
   "cell_type": "code",
   "execution_count": null,
   "source": [
    "# Написать функцию SumElements(L, idx1, idx2),\r\n",
    "# которая принимает на вход список чисел L и два индекса,\r\n",
    "# и возвращает сумму элементов списка L с индексами idx1 и idx2.\r\n",
    "\r\n",
    "# Пример.\r\n",
    "\r\n",
    "# L = [1, 2, 3]\r\n",
    "# SumElements(L, 0, 2)\r\n",
    "# >>> 4"
   ],
   "outputs": [],
   "metadata": {}
  },
  {
   "cell_type": "code",
   "execution_count": 99,
   "source": [
    "# Решение.\r\n",
    "\r\n",
    "def SumElements(L, idx1, idx2):\r\n",
    "\r\n",
    "    element1 = # ENTER YOUR CODE HERE\r\n",
    "    element2 = # ENTER YOUR CODE HERE\r\n",
    "\r\n",
    "    result = # ENTER YOUR CODE HERE\r\n",
    "\r\n",
    "    return result"
   ],
   "outputs": [],
   "metadata": {}
  },
  {
   "cell_type": "code",
   "execution_count": null,
   "source": [
    "# Проверка.\r\n",
    "\r\n",
    "# >>> 8\r\n",
    "# >>> 17\r\n",
    "\r\n",
    "L = [1, 2, 3, 7, 8, 9]\r\n",
    "print(SumElements(L, 0, 3))\r\n",
    "print(SumElements(L, 4, 5))"
   ],
   "outputs": [],
   "metadata": {}
  },
  {
   "cell_type": "markdown",
   "source": [
    "##### Задание 1."
   ],
   "metadata": {}
  },
  {
   "cell_type": "code",
   "execution_count": 57,
   "source": [
    "# Написать функцию GetEvens(L),\r\n",
    "# которая принимает на вход список L,\r\n",
    "# элементами которого являются целые числа,\r\n",
    "# и возвращает новый список, содержащий только четные числа из списка L."
   ],
   "outputs": [],
   "metadata": {}
  },
  {
   "cell_type": "code",
   "execution_count": 63,
   "source": [
    "# Решение.\r\n",
    "\r\n",
    "def GetEvens(L):\r\n",
    "    \r\n",
    "    result = []\r\n",
    "\r\n",
    "    for element in L:\r\n",
    "        if # ENTER YOUR CODE HERE\r\n",
    "           # ENTER YOUR CODE HERE\r\n",
    "\r\n",
    "    return result"
   ],
   "outputs": [],
   "metadata": {}
  },
  {
   "cell_type": "code",
   "execution_count": null,
   "source": [
    "# Проверка.\r\n",
    "\r\n",
    "# >>> [2, 4, 6]\r\n",
    "# >>> [0, 8, 6, 76]\r\n",
    "\r\n",
    "L = [1, 2, 3, 4, 5, 6]\r\n",
    "print(GetEvens(L))\r\n",
    "\r\n",
    "L = [0, 9, 8, 89, 7, 6, 76]\r\n",
    "print(GetEvens(L))"
   ],
   "outputs": [],
   "metadata": {}
  },
  {
   "cell_type": "markdown",
   "source": [
    "##### Задание 2."
   ],
   "metadata": {}
  },
  {
   "cell_type": "code",
   "execution_count": 72,
   "source": [
    "# Написать функцию SelectElements(l1, l2), \r\n",
    "# которая принимает на вход два списка - l1 и l2\r\n",
    "# и возвращает новый список с элементами, \r\n",
    "# которые есть в списке l1, но нет в списке l2."
   ],
   "outputs": [],
   "metadata": {}
  },
  {
   "cell_type": "code",
   "execution_count": 72,
   "source": [
    "# Решение.\r\n",
    "\r\n",
    "def SelectElements(l1, l2):\r\n",
    "\r\n",
    "    result = []\r\n",
    "\r\n",
    "    for element in l1:\r\n",
    "        if # ENTER YOUR CODE HERE\r\n",
    "           # ENTER YOUR CODE HERE\r\n",
    "    \r\n",
    "    return result"
   ],
   "outputs": [],
   "metadata": {}
  },
  {
   "cell_type": "code",
   "execution_count": null,
   "source": [
    "# Проверка решения.\r\n",
    "\r\n",
    "# >>> [1, 2, 3, 6]\r\n",
    "# >>> [15, 16]\r\n",
    "\r\n",
    "l1 = [1, 2, 3, 4, 5, 6]\r\n",
    "l2 = [9, 8, 7, 5, 4]\r\n",
    "print(SelectElements(l1, l2))\r\n",
    "\r\n",
    "l1 = [0, 15, 1, 16, 2]\r\n",
    "l2 = [2, 1.5, 1, 0]\r\n",
    "print(SelectElements(l1, l2))"
   ],
   "outputs": [],
   "metadata": {}
  },
  {
   "cell_type": "markdown",
   "source": [
    "##### Задание 3."
   ],
   "metadata": {}
  },
  {
   "cell_type": "code",
   "execution_count": null,
   "source": [
    "# Написать функцию GetSum(L),\r\n",
    "# которая принимает на вход список L,\r\n",
    "# элементами которого являются другие списки,\r\n",
    "# и возвращает сумму всех элементов в списке L.\r\n",
    "\r\n",
    "# Пример.\r\n",
    "\r\n",
    "# L = [[0, 1, 1], [1, 2], [3, 4]]\r\n",
    "# GetSum(L)\r\n",
    "# >>> 12"
   ],
   "outputs": [],
   "metadata": {}
  },
  {
   "cell_type": "code",
   "execution_count": 76,
   "source": [
    "# Решение.\r\n",
    "\r\n",
    "# ENTER YOUR CODE HERE"
   ],
   "outputs": [],
   "metadata": {}
  },
  {
   "cell_type": "code",
   "execution_count": null,
   "source": [
    "# Задание 3. Проверка решения.\r\n",
    "\r\n",
    "# >>> 12\r\n",
    "# >>> 5\r\n",
    "\r\n",
    "L = [[0, 1, 1], [1, 2], [3, 4]]\r\n",
    "print(GetSum(L))\r\n",
    "\r\n",
    "L = [[4, 2, 0, -2], [1]]\r\n",
    "print(GetSum(L))"
   ],
   "outputs": [],
   "metadata": {}
  },
  {
   "cell_type": "markdown",
   "source": [
    "##### Задание 4."
   ],
   "metadata": {}
  },
  {
   "cell_type": "code",
   "execution_count": null,
   "source": [
    "# Написать функцию GetSumTop3(L),\r\n",
    "# которая принимает на вход список чисел L\r\n",
    "# и возвращет сумму трех самых больших элементов списка L.\r\n",
    "\r\n",
    "# Пример.\r\n",
    "\r\n",
    "# L = [5, 10, 1, 2, 8, 6]\r\n",
    "# GetSumTop3(L)\r\n",
    "# >>> 24\r\n",
    "\r\n",
    "# Примечание. \r\n",
    "# Попробуйте решить задачу двумя различными способами:\r\n",
    "# с использованием метода sort() и без него."
   ],
   "outputs": [],
   "metadata": {}
  },
  {
   "cell_type": "code",
   "execution_count": 110,
   "source": [
    "# Решение №1 (с использованием метода sort).\r\n",
    "\r\n",
    "def GetSumTop3(L):\r\n",
    "\r\n",
    "    # ENTER YOUR CODE HERE\r\n",
    "\r\n",
    "    return result"
   ],
   "outputs": [],
   "metadata": {}
  },
  {
   "cell_type": "code",
   "execution_count": 84,
   "source": [
    "# Проверка решения №1.\r\n",
    "\r\n",
    "# >>> 12\r\n",
    "# >>> 59\r\n",
    "\r\n",
    "L = [1, 2, 3, 4, 5]\r\n",
    "print(GetSumTop3(L))\r\n",
    "\r\n",
    "L = [5, 10, 25, 1, 2, 8, 6, 24]\r\n",
    "print(GetSumTop3(L))"
   ],
   "outputs": [
    {
     "output_type": "stream",
     "name": "stdout",
     "text": [
      "12\n",
      "59\n"
     ]
    }
   ],
   "metadata": {}
  },
  {
   "cell_type": "code",
   "execution_count": 79,
   "source": [
    "# Решение №2 (без использования метода sort).\r\n",
    "\r\n",
    "def GetSumTop3(L):\r\n",
    "\r\n",
    "    # ENTER YOUR CODE HERE\r\n",
    "\r\n",
    "    return result"
   ],
   "outputs": [],
   "metadata": {}
  },
  {
   "cell_type": "code",
   "execution_count": null,
   "source": [
    "# Проверка решения №2.\r\n",
    "\r\n",
    "# >>> 12\r\n",
    "# >>> 59\r\n",
    "\r\n",
    "L = [1, 2, 3, 4, 5]\r\n",
    "print(GetSumTop3(L))\r\n",
    "\r\n",
    "L = [5, 10, 25, 1, 2, 8, 6, 24]\r\n",
    "print(GetSumTop3(L))"
   ],
   "outputs": [],
   "metadata": {}
  },
  {
   "cell_type": "markdown",
   "source": [
    "##### Задание 5."
   ],
   "metadata": {}
  },
  {
   "cell_type": "code",
   "execution_count": null,
   "source": [
    "# Написать функцию GetMedian(L),\r\n",
    "# которая принимает на вход список чисел L\r\n",
    "# и возвращет медиану чисел.\r\n",
    "\r\n",
    "# Пример.\r\n",
    "\r\n",
    "# L = [5, 10, 1, 8, 6]\r\n",
    "# GetMedian(L)\r\n",
    "# >>> 1\r\n",
    "\r\n",
    "# L = [5, 10, 1, 2, 8, 6, 2]\r\n",
    "# GetMedian(L)\r\n",
    "# >>> 1.5"
   ],
   "outputs": [],
   "metadata": {}
  },
  {
   "cell_type": "code",
   "execution_count": 93,
   "source": [
    "# Решение.\r\n",
    "\r\n",
    "def GetMedian(L):\r\n",
    "\r\n",
    "    N = len(L)\r\n",
    "\r\n",
    "    if N % 2 != 0: # если длина списка - нечетная\r\n",
    "\r\n",
    "        c_idx = int(N/2)\r\n",
    "        median = # ENTER YOUR CODE HERE\r\n",
    "\r\n",
    "    else:\r\n",
    "\r\n",
    "        l_idx = int(N/2 - 0.5)\r\n",
    "        r_idx = # ENTER YOUR CODE HERE\r\n",
    "        \r\n",
    "        median = # ENTER YOUR CODE HERE\r\n",
    "\r\n",
    "    return median"
   ],
   "outputs": [],
   "metadata": {}
  },
  {
   "cell_type": "code",
   "execution_count": null,
   "source": [
    "# Проверка.\r\n",
    "\r\n",
    "# >>> 1.5\r\n",
    "# >>> 5\r\n",
    "\r\n",
    "l = [5, 10, 1, 2, 8, 6]\r\n",
    "print(GetMedian(l))\r\n",
    "\r\n",
    "l = [5, 10, 1, 5, 2, 8, 6]\r\n",
    "GetMedian(l)"
   ],
   "outputs": [],
   "metadata": {}
  },
  {
   "cell_type": "markdown",
   "source": [
    "##### Задание 6."
   ],
   "metadata": {}
  },
  {
   "cell_type": "code",
   "execution_count": 125,
   "source": [
    "# Написать функцию GetList(L),\r\n",
    "# которая принимает список чисел L с неповторяющимися элементами\r\n",
    "# и возвращает новый список, в котором будут собраны те элементы из списка L,\r\n",
    "# индекс которых совпадает со значением самого элемента (см. пример ниже).\r\n",
    "\r\n",
    "# Пример.\r\n",
    "\r\n",
    "# L = [0, 'a', 2, 3, 6, 5]\r\n",
    "\r\n",
    "# GetList(L)\r\n",
    "# >>> [0, 2, 3]"
   ],
   "outputs": [],
   "metadata": {}
  },
  {
   "cell_type": "code",
   "execution_count": 95,
   "source": [
    "# Решение.\r\n",
    "\r\n",
    "def GetList(L):\r\n",
    "\r\n",
    "    result = []\r\n",
    "\r\n",
    "    for element in L:\r\n",
    "        if # ENTER YOUR CODE HERE\r\n",
    "           # ENTER YOUR CODE HERE\r\n",
    "    \r\n",
    "    return result"
   ],
   "outputs": [],
   "metadata": {}
  },
  {
   "cell_type": "code",
   "execution_count": null,
   "source": [
    "# Проверка.\r\n",
    "\r\n",
    "# >>> [0, 2, 3, 5]\r\n",
    "# >>> [1, 2, 3, 7]\r\n",
    "# >>> []\r\n",
    "\r\n",
    "l = [0, 'a', 2, 3, 6, 5]\r\n",
    "print(GetList(l))\r\n",
    "\r\n",
    "l = [0.5, 1, 2, 3, 't', 4, 'f', 7]\r\n",
    "print(GetList(l))\r\n",
    "\r\n",
    "l = [1, 2, 3, 4, 5, 6]\r\n",
    "print(GetList(l))"
   ],
   "outputs": [],
   "metadata": {}
  },
  {
   "cell_type": "markdown",
   "source": [
    "##### Задание 7."
   ],
   "metadata": {}
  },
  {
   "cell_type": "code",
   "execution_count": 116,
   "source": [
    "# Написать функцию CleanUp(text, stopwords),\r\n",
    "# которая на вход принимает текст и список стоп-слов\r\n",
    "# и возвращает очищенный от стоп-слов текст в верхнем регистре.\r\n",
    "# В строке не должно остаться окаймляющих пробелов.\r\n",
    "\r\n",
    "# Пример.\r\n",
    "\r\n",
    "# text = 'Feel so unsure As I take your hand'\r\n",
    "# stopwords = ['As', 'so', 'unsure', 'Feel']\r\n",
    "\r\n",
    "# CleanUp(text, stopwords)\r\n",
    "\r\n",
    "# >>> 'I TAKE YOUR HAND'"
   ],
   "outputs": [],
   "metadata": {}
  },
  {
   "cell_type": "code",
   "execution_count": 119,
   "source": [
    "# Решение.\r\n",
    "\r\n",
    "def CleanUp(text, stopwords):\r\n",
    "\r\n",
    "    for word in stopwords:\r\n",
    "        if word in text:\r\n",
    "            text = # ENTER YOUR CODE HERE\r\n",
    "\r\n",
    "    # ENTER YOUR CODE HERE\r\n",
    "\r\n",
    "    return text"
   ],
   "outputs": [],
   "metadata": {}
  },
  {
   "cell_type": "code",
   "execution_count": 127,
   "source": [
    "# Проверка.\r\n",
    "\r\n",
    "# >>> 'I TAKE YOUR HAND'\r\n",
    "# >>> 'I FEEL SO UNSURE'\r\n",
    "\r\n",
    "text = 'Feel so unsure As I take your hand'\r\n",
    "stopwords = ['As', 'so', 'unsure', 'Feel']\r\n",
    "\r\n",
    "print(CleanUp(text, stopwords))\r\n",
    "\r\n",
    "text = 'I@ @f!e!e!l!@ @s@o) )u)n)s)u)re'\r\n",
    "stopwords = ['@', '!', ')']\r\n",
    "\r\n",
    "print(CleanUp(text, stopwords))"
   ],
   "outputs": [
    {
     "output_type": "stream",
     "name": "stdout",
     "text": [
      "I TAKE YOUR HAND\n",
      "I FEEL SO UNSURE\n"
     ]
    }
   ],
   "metadata": {}
  },
  {
   "cell_type": "markdown",
   "source": [
    "##### Задание 8."
   ],
   "metadata": {}
  },
  {
   "cell_type": "code",
   "execution_count": null,
   "source": [
    "# Написать функцию DropSpaces(text),\r\n",
    "# которая принимает на вход текст\r\n",
    "# и возвращает текст в верхнем регистре,\r\n",
    "# очищенный от сдвоенных пробелов.\r\n",
    "# В тексте не должно содержаться окаймляющих пробелов.\r\n",
    "\r\n",
    "# Пример.\r\n",
    "\r\n",
    "# text = '  Feel    so   unsure          As    I  take  your        hand'\r\n",
    "# DropSpaces(text)\r\n",
    "# >>> 'FEEL SO UNSURE AS I TAKE YOUR HAND'"
   ],
   "outputs": [],
   "metadata": {}
  },
  {
   "cell_type": "code",
   "execution_count": 130,
   "source": [
    "# Решение.\r\n",
    "\r\n",
    "def DropSpaces(text):\r\n",
    "\r\n",
    "    while '  ' in text:\r\n",
    "        # ENTER YOUR CODE HERE\r\n",
    "\r\n",
    "    # ENTER YOUR CODE HERE\r\n",
    "\r\n",
    "    return text"
   ],
   "outputs": [],
   "metadata": {}
  },
  {
   "cell_type": "code",
   "execution_count": null,
   "source": [
    "# Проверка.\r\n",
    "\r\n",
    "# >>> FEEL SO UNSURE AS I TAKE YOUR HAND\r\n",
    "\r\n",
    "text = '  Feel    so   unsure          As    I  take  your        hand'\r\n",
    "print(DropSpaces(text))"
   ],
   "outputs": [],
   "metadata": {}
  },
  {
   "cell_type": "markdown",
   "source": [
    "##### Задание 9."
   ],
   "metadata": {}
  },
  {
   "cell_type": "code",
   "execution_count": null,
   "source": [
    "# Написать функцию GetStat(text),\r\n",
    "# которая принимает на вход текст\r\n",
    "# и возвращает кортеж (nchars, nwords),\r\n",
    "# где nchars - количество символов в тексте, включая пробелы,\r\n",
    "#     nwords - количество слов в тексте.\r\n",
    "\r\n",
    "# Пример.\r\n",
    "# text = 'I take your hand'\r\n",
    "# GetStat(text)\r\n",
    "# >>> (16, 4)"
   ],
   "outputs": [],
   "metadata": {}
  },
  {
   "cell_type": "code",
   "execution_count": 133,
   "source": [
    "# Решение.\r\n",
    "\r\n",
    "# ENTER YOUR CODE HERE"
   ],
   "outputs": [],
   "metadata": {}
  },
  {
   "cell_type": "code",
   "execution_count": null,
   "source": [
    "# Проверка.\r\n",
    "\r\n",
    "# >>> (34, 8)\r\n",
    "\r\n",
    "text = 'Feel so unsure As I take your hand'\r\n",
    "print(GetStat(text))"
   ],
   "outputs": [],
   "metadata": {}
  },
  {
   "cell_type": "markdown",
   "source": [
    "##### Задание 10."
   ],
   "metadata": {}
  },
  {
   "cell_type": "code",
   "execution_count": null,
   "source": [
    "# Написать функцию ToAlphb(text),\r\n",
    "# которая принимает на вход текст\r\n",
    "# удаляет из него точки и запятые и \r\n",
    "# возвращает текст в верхнем регистре, \r\n",
    "# в котором все слова упорядочены по алфавиту.\r\n",
    "# В тексте не должно содержаться окаймляющих пробелов.\r\n",
    "\r\n",
    "# Пример.\r\n",
    "# text = 'Feel so unsure As I take your hand'\r\n",
    "# ToAlphb(text)\r\n",
    "# >>> 'AS FEEL I HAND SO TAKE UNSURE YOUR'"
   ],
   "outputs": [],
   "metadata": {}
  },
  {
   "cell_type": "code",
   "execution_count": 143,
   "source": [
    "# Решение.\r\n",
    "\r\n",
    "def ToAlphb(text):\r\n",
    "\r\n",
    "    text = CleanUp(# ENTER YOUR CODE HERE)\r\n",
    "\r\n",
    "    words = text.split(' ')\r\n",
    "    words.sort()\r\n",
    "    text = # ENTER YOUR CODE HERE\r\n",
    "    text = text.strip()\r\n",
    "\r\n",
    "    return text"
   ],
   "outputs": [],
   "metadata": {}
  },
  {
   "cell_type": "code",
   "execution_count": 144,
   "source": [
    "# Проверка.\r\n",
    "\r\n",
    "# >>> 'AS FEEL I HAND SO TAKE UNSURE YOUR'\r\n",
    "# >>> 'AUF BISSCHEN BISSCHEN DER DIESE EIN EIN ERDE FRIEDEN FÜR SONNE WIR WOHNEN'\r\n",
    "\r\n",
    "text = 'Feel so unsure As I take your hand'\r\n",
    "print(ToAlphb(text))\r\n",
    "\r\n",
    "text = 'Ein bisschen Frieden, ein bisschen Sonne \\\r\n",
    "        für diese Erde, auf der wir wohnen.'\r\n",
    "\r\n",
    "print(ToAlphb(text))"
   ],
   "outputs": [
    {
     "output_type": "stream",
     "name": "stdout",
     "text": [
      "AS FEEL HAND I SO TAKE UNSURE YOUR\n",
      "AUF BISSCHEN BISSCHEN DER DIESE EIN EIN ERDE FRIEDEN FÜR SONNE WIR WOHNEN\n"
     ]
    }
   ],
   "metadata": {}
  },
  {
   "cell_type": "markdown",
   "source": [
    "##### Задание 11."
   ],
   "metadata": {}
  },
  {
   "cell_type": "code",
   "execution_count": 156,
   "source": [
    "# Написать функцию GetSquares(n),\r\n",
    "# которая принимает на вход число n\r\n",
    "# и возвращает словарь, в котором \r\n",
    "# ключи - числа от 0 до n включительно, \r\n",
    "# а значения - кврадраты этих чисел.\r\n",
    "\r\n",
    "# Пример.\r\n",
    "\r\n",
    "# GetSquares(2)\r\n",
    "# {0: 0, 1: 1, 2: 4}"
   ],
   "outputs": [],
   "metadata": {}
  },
  {
   "cell_type": "code",
   "execution_count": 151,
   "source": [
    "# Решение.\r\n",
    "\r\n",
    "def GetSquares(n):\r\n",
    "\r\n",
    "    d = {}\r\n",
    "\r\n",
    "    for i in range(n + 1):\r\n",
    "        # ENTER YOUR CODE HERE\r\n",
    "    \r\n",
    "    return d"
   ],
   "outputs": [],
   "metadata": {}
  },
  {
   "cell_type": "code",
   "execution_count": 155,
   "source": [
    "# Проверка.\r\n",
    "\r\n",
    "# >>> {0: 0, 1: 1, 2: 4}\r\n",
    "# >>> {0: 0, 1: 1, 2: 4, 3: 9}\r\n",
    "\r\n",
    "print(GetSquares(2))\r\n",
    "print(GetSquares(3))"
   ],
   "outputs": [
    {
     "output_type": "stream",
     "name": "stdout",
     "text": [
      "{0: 0, 1: 1, 2: 4}\n",
      "{0: 0, 1: 1, 2: 4, 3: 9}\n"
     ]
    }
   ],
   "metadata": {}
  },
  {
   "cell_type": "markdown",
   "source": [
    "##### Задание 12."
   ],
   "metadata": {}
  },
  {
   "cell_type": "code",
   "execution_count": null,
   "source": [
    "# Написать функцию GetMin(d),\r\n",
    "# которая принимает на вход словарь d\r\n",
    "# и возвращает значение, \r\n",
    "# соответствующее минимальному ключу.\r\n",
    "\r\n",
    "# Пример.\r\n",
    "\r\n",
    "# d = {1: 'a', 2: 'b', 0: 'c'}\r\n",
    "# GetMin(d)\r\n",
    "# 'c'"
   ],
   "outputs": [],
   "metadata": {}
  },
  {
   "cell_type": "code",
   "execution_count": 161,
   "source": [
    "# Решение.\r\n",
    "\r\n",
    "# ENTER YOUR CODE HERE"
   ],
   "outputs": [],
   "metadata": {}
  },
  {
   "cell_type": "code",
   "execution_count": null,
   "source": [
    "# Проверка.\r\n",
    "\r\n",
    "# >>> 'c'\r\n",
    "# >>> 'b'\r\n",
    "\r\n",
    "d = {1: 'a', 2: 'b', 0: 'c'}\r\n",
    "print(GetMin(d))\r\n",
    "\r\n",
    "d = {-1: 'a', -2: 'b', 0: 'c'}\r\n",
    "print(GetMin(d))"
   ],
   "outputs": [],
   "metadata": {}
  },
  {
   "cell_type": "markdown",
   "source": [
    "##### Задание 13."
   ],
   "metadata": {}
  },
  {
   "cell_type": "code",
   "execution_count": null,
   "source": [
    "# Написать функцию SortWords(text, strings),\r\n",
    "# которая принимает на вход текст и список подстрок strings\r\n",
    "# и возвращает словарь, в котором ключи - это подстроки,\r\n",
    "# а значения - количество слов, в которых эти подстроки встречаются (см. пример).\r\n",
    "\r\n",
    "# Пример.\r\n",
    "\r\n",
    "# text = 'A fat cat once sat on a bed'\r\n",
    "# strings = ['at', 'on', 'a']\r\n",
    "# SortWords(text, strings)\r\n",
    "# >>> {'at': 3, 'on': 2, 'a': 4}"
   ],
   "outputs": [],
   "metadata": {}
  },
  {
   "cell_type": "code",
   "execution_count": 165,
   "source": [
    "# Решение.\r\n",
    "\r\n",
    "def SortWords(text, strings):\r\n",
    "\r\n",
    "    result = {}\r\n",
    "\r\n",
    "    words = # ENTER YOUR CODE HERE\r\n",
    "\r\n",
    "    for string in strings:\r\n",
    "        counter = 0\r\n",
    "\r\n",
    "        for word in words:\r\n",
    "            if # ENTER YOUR CODE HERE\r\n",
    "                # ENTER YOUR CODE HERE\r\n",
    "        \r\n",
    "        # ENTER YOUR CODE HERE\r\n",
    "    \r\n",
    "    return result"
   ],
   "outputs": [],
   "metadata": {}
  },
  {
   "cell_type": "code",
   "execution_count": null,
   "source": [
    "# Проверка.\r\n",
    "\r\n",
    "# >>> {'at': 3, 'on': 2, 'a': 4}\r\n",
    "# >>> {'ub': 5, 'bu': 2, 'double': 2}\r\n",
    "\r\n",
    "text = 'A fat cat once sat on a bed'\r\n",
    "strings = ['at', 'on', 'a']\r\n",
    "print(SortWords(text, strings))\r\n",
    "\r\n",
    "text = 'Bubble gum double bubble gum bubbles double.'\r\n",
    "strings = ['ub', 'bu', 'double']\r\n",
    "print(SortWords(text, strings))"
   ],
   "outputs": [],
   "metadata": {}
  },
  {
   "cell_type": "markdown",
   "source": [
    "##### Задание 14."
   ],
   "metadata": {}
  },
  {
   "cell_type": "code",
   "execution_count": null,
   "source": [
    "# Написать функцию ReverseDict(d),\r\n",
    "# которая принимает на вход словарь d со схемой {dkey: dval},\r\n",
    "# и возвращает словарь со схемой {dkey: dval} (см. пример).\r\n",
    "\r\n",
    "# Пример.\r\n",
    "\r\n",
    "# d = {'one': 1, 'two': 2, 'three': 3}\r\n",
    "# ReverseDict(d)\r\n",
    "# >>> {1: 'one', 2: 'two', 3: 'three'}"
   ],
   "outputs": [],
   "metadata": {}
  },
  {
   "cell_type": "code",
   "execution_count": 8,
   "source": [
    "# Решение.\r\n",
    "\r\n",
    "def ReverseDict(d):\r\n",
    "    \r\n",
    "    result = {}\r\n",
    "\r\n",
    "    for dkey in d.keys():\r\n",
    "       dval = # ENTER YOUR CODE HERE\r\n",
    "       result[dval] = # ENTER YOUR CODE HERE\r\n",
    "\r\n",
    "    return result"
   ],
   "outputs": [],
   "metadata": {}
  },
  {
   "cell_type": "code",
   "execution_count": 10,
   "source": [
    "# Проверка.\r\n",
    "\r\n",
    "# >>> {1: 'one', 2: 'two', 3: 'three'}\r\n",
    "# >>> {'Ich': 'I', 'Du': 'You', 'Sie': 'They'}\r\n",
    "\r\n",
    "d = {'one': 1, 'two': 2, 'three': 3}\r\n",
    "print(ReverseDict(d))\r\n",
    "\r\n",
    "d = {'I': 'Ich', 'You': 'Du', 'They': 'Sie'}\r\n",
    "print(ReverseDict(d))"
   ],
   "outputs": [
    {
     "output_type": "stream",
     "name": "stdout",
     "text": [
      "{1: 'one', 2: 'two', 3: 'three'}\n",
      "{'Ich': 'I', 'Du': 'You', 'Sie': 'They'}\n"
     ]
    }
   ],
   "metadata": {}
  },
  {
   "cell_type": "markdown",
   "source": [
    "##### Задание 15."
   ],
   "metadata": {}
  },
  {
   "cell_type": "code",
   "execution_count": null,
   "source": [
    "# Написать функцию MakePhrase(d),\r\n",
    "# которая принимает на вход словарь d со схемой {i: word},\r\n",
    "# где word - некоторое слово,\r\n",
    "#     i - позиция в предложении, \r\n",
    "#         на которой должно стоять слово word, начиная с нуля\r\n",
    "# и возвращает предложение, где каждое слово стоит на нужной позиции (см. пример).\r\n",
    "\r\n",
    "# Пример.\r\n",
    "\r\n",
    "# d = {\r\n",
    "#      3: 'a', \r\n",
    "#      4: 'bed', \r\n",
    "#      0: 'cat', \r\n",
    "#      1: 'sat', \r\n",
    "#      2: 'on'\r\n",
    "#      }\r\n",
    "\r\n",
    "# MakePhrase(d)\r\n",
    "# >>> 'cat sat on a bed'"
   ],
   "outputs": [],
   "metadata": {}
  },
  {
   "cell_type": "code",
   "execution_count": 13,
   "source": [
    "# Решение.\r\n",
    "\r\n",
    "def MakePhrase(d):\r\n",
    "\r\n",
    "    result = []\r\n",
    "\r\n",
    "    positions = # ENTER YOUR CODE HERE\r\n",
    "    positions = list(positions)\r\n",
    "    positions.sort()\r\n",
    "\r\n",
    "    for position in positions: \r\n",
    "        # ENTER YOUR CODE HERE\r\n",
    "    \r\n",
    "    result = ' '.join(result)\r\n",
    "\r\n",
    "    return result"
   ],
   "outputs": [],
   "metadata": {}
  },
  {
   "cell_type": "code",
   "execution_count": null,
   "source": [
    "# Проверка.\r\n",
    "\r\n",
    "# >>> 'cat sat on a bed'\r\n",
    "\r\n",
    "d = {\r\n",
    "     3: 'a', \r\n",
    "     4: 'bed', \r\n",
    "     0: 'cat', \r\n",
    "     1: 'sat', \r\n",
    "     2: 'on'\r\n",
    "     }\r\n",
    "\r\n",
    "print(MakePhrase(d))"
   ],
   "outputs": [],
   "metadata": {}
  },
  {
   "cell_type": "markdown",
   "source": [
    "##### Задание 16. "
   ],
   "metadata": {}
  },
  {
   "cell_type": "code",
   "execution_count": 185,
   "source": [
    "# Написать функцию MakePhrase2(d),\r\n",
    "# которая принимает на вход словарь d со схемой {word: i},\r\n",
    "# где word - некоторое слово,\r\n",
    "#     i - позиция в предложении, \r\n",
    "#         на которой должно стоять слово word, начиная с нуля\r\n",
    "# и возвращает предложение, где каждое слово стоит на нужной позиции (см. пример).\r\n",
    "\r\n",
    "# Пример.\r\n",
    "\r\n",
    "# d = {\r\n",
    "#      'a': 3, \r\n",
    "#      'bed': 4, \r\n",
    "#      'cat': 0, \r\n",
    "#      'sat': 1, \r\n",
    "#      'on': 2\r\n",
    "#      }\r\n",
    "\r\n",
    "# MakePhrase2(d)\r\n",
    "# >>> 'cat sat on a bed'\r\n",
    "\r\n",
    "# Подсказка. \r\n",
    "# Используйте при написании фнкции MakePhrase2()\r\n",
    "# написанные ранее функции ReverseDict(d) и MakePhrase(d.)"
   ],
   "outputs": [],
   "metadata": {}
  },
  {
   "cell_type": "code",
   "execution_count": 15,
   "source": [
    "# Решение.\r\n",
    "\r\n",
    "def MakePhrase2(d):\r\n",
    "\r\n",
    "    # ENTER YOUR CODE HERE\r\n",
    "\r\n",
    "    return result\r\n",
    "        "
   ],
   "outputs": [],
   "metadata": {}
  },
  {
   "cell_type": "code",
   "execution_count": null,
   "source": [
    "# Проверка.\r\n",
    "\r\n",
    "# >>> 'cat sat on a bed'\r\n",
    "\r\n",
    "d = {\r\n",
    "     'a': 3, \r\n",
    "     'bed': 4, \r\n",
    "     'cat': 0, \r\n",
    "     'sat': 1, \r\n",
    "     'on': 2\r\n",
    "     }\r\n",
    "\r\n",
    "print(MakePhrase2(d))"
   ],
   "outputs": [],
   "metadata": {}
  }
 ],
 "metadata": {
  "kernelspec": {
   "name": "python3",
   "display_name": "Python 3.8.10 64-bit"
  },
  "language_info": {
   "codemirror_mode": {
    "name": "ipython",
    "version": 3
   },
   "file_extension": ".py",
   "mimetype": "text/x-python",
   "name": "python",
   "nbconvert_exporter": "python",
   "pygments_lexer": "ipython3",
   "version": "3.8.10"
  },
  "orig_nbformat": 4,
  "vscode": {
   "interpreter": {
    "hash": "85ff1272ebdb9114fdc23fe6440a06ea2e2bbd843887993be9bf56c72b6508d5"
   }
  },
  "interpreter": {
   "hash": "0ff1e1fc79923b7048a1b0a049e1f8c29b7247f7ffa1cbd35692250f92a41541"
  }
 },
 "nbformat": 4,
 "nbformat_minor": 2
}