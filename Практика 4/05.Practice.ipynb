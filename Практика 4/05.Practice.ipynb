{
 "cells": [
  {
   "cell_type": "code",
   "execution_count": 1,
   "source": [
    "from module import *"
   ],
   "outputs": [],
   "metadata": {}
  },
  {
   "cell_type": "markdown",
   "source": [
    "# Введение в Pandas"
   ],
   "metadata": {}
  },
  {
   "cell_type": "code",
   "execution_count": 2,
   "source": [
    "# Импорт модуля pandas и присвоение ему имени pd.\r\n",
    "# Дома: в терминале (Terminal-New Terminal) нужно набрать: pip install pandas\r\n",
    "# и выполнить (клавиша Enter).\r\n",
    "\r\n",
    "import pandas as pd"
   ],
   "outputs": [],
   "metadata": {}
  },
  {
   "cell_type": "markdown",
   "source": [
    "## Часть 1. Импорт датафрейма."
   ],
   "metadata": {}
  },
  {
   "cell_type": "code",
   "execution_count": 3,
   "source": [
    "# Пример 1.1.\r\n",
    "# Импорт датафрейма из документа \"countries.csv\"\r\n",
    "# и присвоение ему имени countries.\r\n",
    "\r\n",
    "countries = pd.read_csv('countries.txt', sep='\\t', decimal='.')\r\n",
    "# countries"
   ],
   "outputs": [],
   "metadata": {}
  },
  {
   "cell_type": "code",
   "execution_count": 4,
   "source": [
    "# Пример 1.2.\r\n",
    "# Импорт датафрейма из документа 'continents.txt'\r\n",
    "# и присвоение ему имени continents. \r\n",
    "\r\n",
    "continents = pd.read_csv('continents.txt', sep='\\t')\r\n",
    "# continents"
   ],
   "outputs": [],
   "metadata": {}
  },
  {
   "cell_type": "code",
   "execution_count": 5,
   "source": [
    "# Задание 1.1.\r\n",
    "# Импортировать датафрейм из документа 'items.txt'\r\n",
    "# и присвоить ему имя items.\r\n",
    "\r\n",
    "items = # ENTER YOUR CODE HERE\r\n",
    "# items"
   ],
   "outputs": [],
   "metadata": {}
  },
  {
   "cell_type": "code",
   "execution_count": 6,
   "source": [
    "# Задание 1.2.\r\n",
    "# Импортировать датафрейм из документа 'groups.txt'\r\n",
    "# и присвоить ему имя items. \r\n",
    "\r\n",
    "groups = # ENTER YOUR CODE HERE\r\n",
    "# groups"
   ],
   "outputs": [],
   "metadata": {}
  },
  {
   "cell_type": "code",
   "execution_count": 7,
   "source": [
    "# Задание 1.3.\r\n",
    "# Импортировать датафрейм из документа 'names.txt'\r\n",
    "# и присвоить ему имя names.\r\n",
    "\r\n",
    "names = # ENTER YOUR CODE HERE\r\n",
    "# names"
   ],
   "outputs": [],
   "metadata": {}
  },
  {
   "cell_type": "code",
   "execution_count": null,
   "source": [
    "# Проверка решений заданий 1.1 - 1.3\r\n",
    "\r\n",
    "check('task 1.1', items)\r\n",
    "check('task 1.2', groups)\r\n",
    "check('task 1.3', names)"
   ],
   "outputs": [],
   "metadata": {}
  },
  {
   "cell_type": "markdown",
   "source": [
    "## Часть 2. Длина датафрейма."
   ],
   "metadata": {}
  },
  {
   "cell_type": "code",
   "execution_count": null,
   "source": [
    "# Пример. \r\n",
    "# Нахождение длин датафреймов countries и continents.\r\n",
    "\r\n",
    "len_df_countries = len(countries)\r\n",
    "len_df_continents = len(continents)\r\n",
    "\r\n",
    "print(len_df_countries)\r\n",
    "print(len_df_continents)"
   ],
   "outputs": [],
   "metadata": {}
  },
  {
   "cell_type": "code",
   "execution_count": 10,
   "source": [
    "# Задание 2.1.\r\n",
    "# Найти длину датафрейма items.\r\n",
    "\r\n",
    "len_df_items = # ENTER YOUR CODE HERE\r\n",
    "# print(len_df_items)"
   ],
   "outputs": [],
   "metadata": {}
  },
  {
   "cell_type": "code",
   "execution_count": 11,
   "source": [
    "# Задание 2.2.\r\n",
    "# Найти длину датафрейма groups.\r\n",
    "\r\n",
    "len_df_groups = # ENTER YOUR CODE HERE\r\n",
    "# print(len_df_groups)"
   ],
   "outputs": [],
   "metadata": {}
  },
  {
   "cell_type": "code",
   "execution_count": 12,
   "source": [
    "# Задание 2.3.\r\n",
    "# Найти длину датафрейма names.\r\n",
    "\r\n",
    "len_df_names = # ENTER YOUR CODE HERE\r\n",
    "# print(len_df_names)"
   ],
   "outputs": [],
   "metadata": {}
  },
  {
   "cell_type": "code",
   "execution_count": null,
   "source": [
    "# Проверка.\r\n",
    "\r\n",
    "check('task 2.1', len_df_items)\r\n",
    "check('task 2.2', len_df_groups)\r\n",
    "check('task 2.3', len_df_names)"
   ],
   "outputs": [],
   "metadata": {}
  },
  {
   "cell_type": "markdown",
   "source": [
    "## Часть 3. Список столбцов датафрейма."
   ],
   "metadata": {}
  },
  {
   "cell_type": "code",
   "execution_count": null,
   "source": [
    "# Пример. \r\n",
    "# Получение списка полей датафреймов countries и continents.\r\n",
    "\r\n",
    "columns_df_countries = countries.columns\r\n",
    "columns_df_continents = continents.columns\r\n",
    "\r\n",
    "print(columns_df_countries)\r\n",
    "print(columns_df_continents)"
   ],
   "outputs": [],
   "metadata": {}
  },
  {
   "cell_type": "code",
   "execution_count": 15,
   "source": [
    "# Задание 3.1. \r\n",
    "# Получить список столбцов датафрейма items.\r\n",
    "\r\n",
    "colimns_df_items = # ENTER YOUR CODE HERE\r\n",
    "# print(colimns_df_items)"
   ],
   "outputs": [],
   "metadata": {}
  },
  {
   "cell_type": "code",
   "execution_count": 16,
   "source": [
    "# Задание 3.2. \r\n",
    "# Получить список столбцов датафрейма groups.\r\n",
    "\r\n",
    "colimns_df_groups = # ENTER YOUR CODE HERE\r\n",
    "# print(colimns_df_groups)"
   ],
   "outputs": [],
   "metadata": {}
  },
  {
   "cell_type": "code",
   "execution_count": 17,
   "source": [
    "# Задание 3.3. \r\n",
    "# Получить список столбцов датафрейма names.\r\n",
    "\r\n",
    "colimns_df_names = # ENTER YOUR CODE HERE\r\n",
    "# print(names.columns)"
   ],
   "outputs": [],
   "metadata": {}
  },
  {
   "cell_type": "code",
   "execution_count": null,
   "source": [
    "# Проверка.\r\n",
    "\r\n",
    "check('task 3.1', colimns_df_items)\r\n",
    "check('task 3.2', colimns_df_groups)\r\n",
    "check('task 3.3', colimns_df_names)"
   ],
   "outputs": [],
   "metadata": {}
  },
  {
   "cell_type": "markdown",
   "source": [
    "## Часть 4. Переименовывание столбцов."
   ],
   "metadata": {}
  },
  {
   "cell_type": "code",
   "execution_count": null,
   "source": [
    "# Пример. \r\n",
    "# Переименование столбца \"Континент\" в датафрейме continents в \"Часть света\".\r\n",
    "\r\n",
    "print(continents.columns)\r\n",
    "continents = continents.rename(columns = {'Континент': 'Часть света'})\r\n",
    "print(continents.columns)"
   ],
   "outputs": [],
   "metadata": {}
  },
  {
   "cell_type": "code",
   "execution_count": 20,
   "source": [
    "# Задание 4.1. \r\n",
    "# Переименовать поле 'Сокращенное название категории'\r\n",
    "# в датафрейме names в 'Категория(сокр.)'\r\n",
    "\r\n",
    "names = # ENTER YOUR CODE HERE\r\n",
    "# names.columns"
   ],
   "outputs": [],
   "metadata": {}
  },
  {
   "cell_type": "code",
   "execution_count": null,
   "source": [
    "# Проверка.\r\n",
    "check('task 4.1', names)"
   ],
   "outputs": [],
   "metadata": {}
  },
  {
   "cell_type": "markdown",
   "source": [
    "## Часть 5. Добавление строк в датафрейм."
   ],
   "metadata": {}
  },
  {
   "cell_type": "code",
   "execution_count": null,
   "source": [
    "# Пример.\r\n",
    "# Добавление строки row в конец датафрейма countries.\r\n",
    "\r\n",
    "row = ['Монголия', 'Улан-Батор', 1.560, 3.08]\r\n",
    "countries.loc[len(countries)] = row\r\n",
    "countries.tail()"
   ],
   "outputs": [],
   "metadata": {}
  },
  {
   "cell_type": "code",
   "execution_count": 23,
   "source": [
    "# Задание 5.1.\r\n",
    "# Добавить в конец датафрейма items строк из списка rows.\r\n",
    "# Каждый вложенный список в списке rows - будущая строка в датафрейме. \r\n",
    "\r\n",
    "rows = [\r\n",
    "        ['Вафли с фр-ми начинками', 3.2, 2.8, 80.9], \r\n",
    "        ['Вафли с жировыми начинками', 3.4, 30.2, 64.7], \r\n",
    "        ['Пирожное трубочка с кремом', 1.7, 25.2, 50.9],\r\n",
    "        ['Пирожное воздушное', 3.1, 16.3, 68.5], \r\n",
    "        ['Пряники', 5.8, 6.5, 71.6], \r\n",
    "        ['Торт ассорти', 4.7, 15, 36], \r\n",
    "        ['Торт Прага', 4.6, 26.5, 65.1]\r\n",
    "        ]\r\n",
    "\r\n",
    "for row in rows:\r\n",
    "    # ENTER YOUR CODE HERE\r\n",
    "    \r\n",
    "# items"
   ],
   "outputs": [],
   "metadata": {}
  },
  {
   "cell_type": "code",
   "execution_count": null,
   "source": [
    "# Проверка.\r\n",
    "check('task 5.1', items)"
   ],
   "outputs": [],
   "metadata": {}
  },
  {
   "cell_type": "markdown",
   "source": [
    "## Часть 6. Объединение датафреймов."
   ],
   "metadata": {}
  },
  {
   "cell_type": "code",
   "execution_count": 25,
   "source": [
    "# Пример. \r\n",
    "# Объединение датафремов countries и continents по ключу 'Страна'.\r\n",
    "\r\n",
    "countries = pd.merge(countries, continents, on=['Страна'], how='inner')\r\n",
    "# countries"
   ],
   "outputs": [],
   "metadata": {}
  },
  {
   "cell_type": "code",
   "execution_count": 26,
   "source": [
    "# Задание 6.1. \r\n",
    "# Объединить датафреймы items, groups и names в один датафрейм с именем items.\r\n",
    "\r\n",
    "items = # ENTER YOUR CODE HERE\r\n",
    "items = # ENTER YOUR CODE HERE\r\n",
    "# items"
   ],
   "outputs": [],
   "metadata": {}
  },
  {
   "cell_type": "code",
   "execution_count": null,
   "source": [
    "# Проверка.\r\n",
    "check('task 6.1', items)"
   ],
   "outputs": [],
   "metadata": {}
  },
  {
   "cell_type": "markdown",
   "source": [
    "## Часть 7. Создание новых столбцов."
   ],
   "metadata": {}
  },
  {
   "cell_type": "code",
   "execution_count": null,
   "source": [
    "# Пример. \r\n",
    "# Создание в датафрейме countries столбца \"Население на 1 кв.км.\",\r\n",
    "# содержащего значения численности начеления на 1 кв.км.\r\n",
    "\r\n",
    "countries['Население на 1 кв.км.'] = countries['Население'] / countries['Площадь']\r\n",
    "countries.head()"
   ],
   "outputs": [],
   "metadata": {}
  },
  {
   "cell_type": "code",
   "execution_count": 29,
   "source": [
    "# Задание 7.1. (1 часть)\r\n",
    "# Создать в датафрейме items столбец \"Калорийность\", \r\n",
    "# значения в котором соответствуют калорийности соответсвующих продуктов.\r\n",
    "# Памятка: 1 г белка содержит 4 калории, 1 г жиров - 9 калорий, 1 г углеводов - 4 калории.\r\n",
    "\r\n",
    "items['Калорийность'] = # ENTER YOUR CODE HERE\r\n",
    "# items.head()"
   ],
   "outputs": [],
   "metadata": {}
  },
  {
   "cell_type": "code",
   "execution_count": 30,
   "source": [
    "# Задание 7.1. (2 часть)\r\n",
    "# Создать в датафрейме items столбец \"Калорийность(Дж)\", \r\n",
    "# значения в котором должны соответствовать калорийности соответсвующих продуктов в Джоулях.\r\n",
    "# Памятка: 1 ккал = 4.1868 Дж.\r\n",
    "\r\n",
    "items['Калорийность(Дж)'] = # ENTER YOUR CODE HERE\r\n",
    "# items.head()"
   ],
   "outputs": [],
   "metadata": {}
  },
  {
   "cell_type": "code",
   "execution_count": null,
   "source": [
    "# Проверка.\r\n",
    "check('task 7.1', items)"
   ],
   "outputs": [],
   "metadata": {}
  },
  {
   "cell_type": "markdown",
   "source": [
    "## Часть 8. Фильтрация датафрейма."
   ],
   "metadata": {}
  },
  {
   "cell_type": "code",
   "execution_count": 32,
   "source": [
    "# Пример 1. Фильтрация датафрема по одному полю, одному условию.\r\n",
    "# Извлечение из датафрейма countries выборки, содержащую страны, \r\n",
    "# принадлежащие части света \"Европа\".\r\n",
    "\r\n",
    "selection = countries.loc[countries['Часть света'] == 'Европа']\r\n",
    "selection"
   ],
   "outputs": [
    {
     "output_type": "execute_result",
     "data": {
      "text/plain": [
       "           Страна     Столица  Площадь  Население Часть света  \\\n",
       "0          Россия      Москва   17.130     146.17      Европа   \n",
       "4        Германия      Берлин    0.360      82.18      Европа   \n",
       "5  Великобритания      Лондон    0.240      65.34      Европа   \n",
       "8      Люксембург  Люксембург    0.002       0.58      Европа   \n",
       "\n",
       "   Население на 1 кв.км.  \n",
       "0               8.532983  \n",
       "4             228.277778  \n",
       "5             272.250000  \n",
       "8             290.000000  "
      ],
      "text/html": [
       "<div>\n",
       "<style scoped>\n",
       "    .dataframe tbody tr th:only-of-type {\n",
       "        vertical-align: middle;\n",
       "    }\n",
       "\n",
       "    .dataframe tbody tr th {\n",
       "        vertical-align: top;\n",
       "    }\n",
       "\n",
       "    .dataframe thead th {\n",
       "        text-align: right;\n",
       "    }\n",
       "</style>\n",
       "<table border=\"1\" class=\"dataframe\">\n",
       "  <thead>\n",
       "    <tr style=\"text-align: right;\">\n",
       "      <th></th>\n",
       "      <th>Страна</th>\n",
       "      <th>Столица</th>\n",
       "      <th>Площадь</th>\n",
       "      <th>Население</th>\n",
       "      <th>Часть света</th>\n",
       "      <th>Население на 1 кв.км.</th>\n",
       "    </tr>\n",
       "  </thead>\n",
       "  <tbody>\n",
       "    <tr>\n",
       "      <th>0</th>\n",
       "      <td>Россия</td>\n",
       "      <td>Москва</td>\n",
       "      <td>17.130</td>\n",
       "      <td>146.17</td>\n",
       "      <td>Европа</td>\n",
       "      <td>8.532983</td>\n",
       "    </tr>\n",
       "    <tr>\n",
       "      <th>4</th>\n",
       "      <td>Германия</td>\n",
       "      <td>Берлин</td>\n",
       "      <td>0.360</td>\n",
       "      <td>82.18</td>\n",
       "      <td>Европа</td>\n",
       "      <td>228.277778</td>\n",
       "    </tr>\n",
       "    <tr>\n",
       "      <th>5</th>\n",
       "      <td>Великобритания</td>\n",
       "      <td>Лондон</td>\n",
       "      <td>0.240</td>\n",
       "      <td>65.34</td>\n",
       "      <td>Европа</td>\n",
       "      <td>272.250000</td>\n",
       "    </tr>\n",
       "    <tr>\n",
       "      <th>8</th>\n",
       "      <td>Люксембург</td>\n",
       "      <td>Люксембург</td>\n",
       "      <td>0.002</td>\n",
       "      <td>0.58</td>\n",
       "      <td>Европа</td>\n",
       "      <td>290.000000</td>\n",
       "    </tr>\n",
       "  </tbody>\n",
       "</table>\n",
       "</div>"
      ]
     },
     "metadata": {},
     "execution_count": 32
    }
   ],
   "metadata": {}
  },
  {
   "cell_type": "code",
   "execution_count": 33,
   "source": [
    "# Задание 8.1. \r\n",
    "# Извлечь из датафрейма items выборку, содержащую продукты из категории \"Сладости\".\r\n",
    "\r\n",
    "selection_81 = # ENTER YOUR CODE HERE\r\n",
    "# selection_81"
   ],
   "outputs": [],
   "metadata": {}
  },
  {
   "cell_type": "code",
   "execution_count": 34,
   "source": [
    "# Задание 8.2. \r\n",
    "# Извлечь из датафрейма items выборку, содержащую продукты,\r\n",
    "# с калорийностью больше 700 калорий.\r\n",
    "\r\n",
    "selection_82 = # ENTER YOUR CODE HERE\r\n",
    "# selection_82"
   ],
   "outputs": [],
   "metadata": {}
  },
  {
   "cell_type": "code",
   "execution_count": 35,
   "source": [
    "# Задание 8.3. \r\n",
    "# Извлечь из датафрейма items выборку, содержащую продукты,\r\n",
    "# с нулевым содержанием белка.\r\n",
    "\r\n",
    "selection_83 = # ENTER YOUR CODE HERE\r\n",
    "# selection_83"
   ],
   "outputs": [],
   "metadata": {}
  },
  {
   "cell_type": "code",
   "execution_count": null,
   "source": [
    "# Проверка.\r\n",
    "\r\n",
    "check('task 8.1', selection_81)\r\n",
    "check('task 8.2', selection_82)\r\n",
    "check('task 8.3', selection_83)"
   ],
   "outputs": [],
   "metadata": {}
  },
  {
   "cell_type": "code",
   "execution_count": null,
   "source": [
    "# Пример 2. Фильтрация датафрема по одному полю, нескольким условиям.\r\n",
    "# Извлечение из датафрейма countries выборки, содержащую страны, \r\n",
    "# принадлежащие частям света Европа и Азия.\r\n",
    "\r\n",
    "selection = countries.loc[countries['Часть света'].isin(['Европа', 'Азия'])]\r\n",
    "selection"
   ],
   "outputs": [],
   "metadata": {}
  },
  {
   "cell_type": "code",
   "execution_count": null,
   "source": [
    "# Пример 3. Фильтрация датафрема по одному полю, нескольким условиям.\r\n",
    "# Извлечение из датафрейма countries выборки, \r\n",
    "# содержащую страны с населением от 50 до 250 млн включительно.\r\n",
    "\r\n",
    "selection = countries.loc[(countries['Население'] >= 50) & (countries['Население'] <= 250)]\r\n",
    "selection"
   ],
   "outputs": [],
   "metadata": {}
  },
  {
   "cell_type": "code",
   "execution_count": 39,
   "source": [
    "# Задание 8.4. \r\n",
    "# Извлечь из датафрейма items выборку, содержащую\r\n",
    "# все продукты из категорий Сладости, Орехи и Яйца.\r\n",
    "\r\n",
    "selection_84 = # ENTER YOUR CODE HERE\r\n",
    "# selection_84"
   ],
   "outputs": [],
   "metadata": {}
  },
  {
   "cell_type": "code",
   "execution_count": 40,
   "source": [
    "# Задание 8.5.\r\n",
    "# Извлечь из датафрейма items выборку, содержащую\r\n",
    "# все продукты с содержанием белка от 5 до 10 г включительно.\r\n",
    "\r\n",
    "selection_85 = # ENTER YOUR CODE HERE\r\n",
    "# selection_85"
   ],
   "outputs": [],
   "metadata": {}
  },
  {
   "cell_type": "code",
   "execution_count": 41,
   "source": [
    "# Задание 8.6. \r\n",
    "# Извлечь из датафрейма items выборку, содержащую продукты\r\n",
    "# с калорийностью от 500 до 550 калорий включительно.\r\n",
    "\r\n",
    "selection_86 = # ENTER YOUR CODE HERE\r\n",
    "# selection_86"
   ],
   "outputs": [],
   "metadata": {}
  },
  {
   "cell_type": "code",
   "execution_count": null,
   "source": [
    "# Проверка.\r\n",
    "\r\n",
    "check('task 8.4', selection_84)\r\n",
    "check('task 8.5', selection_85)\r\n",
    "check('task 8.6', selection_86)"
   ],
   "outputs": [],
   "metadata": {}
  },
  {
   "cell_type": "code",
   "execution_count": null,
   "source": [
    "# Пример. Фильтрация по нескольким полям.\r\n",
    "# Извлечение из датафрейма countries выборки, \r\n",
    "# содержащей страны континента \"Европа\" с населением меньше 70 млн.\r\n",
    "\r\n",
    "selection = countries.loc[(countries['Часть света'] == 'Европа') & (countries['Население'] < 70)]\r\n",
    "selection"
   ],
   "outputs": [],
   "metadata": {}
  },
  {
   "cell_type": "code",
   "execution_count": 44,
   "source": [
    "# Задание 8.7. \r\n",
    "# Извлечь из датафрейма items выборку, содержащую продукты\r\n",
    "# из категории \"Колбаса\" с содержанием белка более, чем 20 г.\r\n",
    "\r\n",
    "selection_87 = # ENTER YOUR CODE HERE\r\n",
    "# selection_87"
   ],
   "outputs": [],
   "metadata": {}
  },
  {
   "cell_type": "code",
   "execution_count": 45,
   "source": [
    "# Задание 8.8. \r\n",
    "# Извлечь из датафрейма items выборку, содержащую продукты\r\n",
    "# из категорий \"Колбаса\" и \"Яйца\" с содержанием белка более, чем 15 г.\r\n",
    "\r\n",
    "selection_88 = # ENTER YOUR CODE HERE\r\n",
    "# selection_88"
   ],
   "outputs": [],
   "metadata": {}
  },
  {
   "cell_type": "code",
   "execution_count": 46,
   "source": [
    "# Задание 8.9. \r\n",
    "# Извлечь из датафрейма items выборку, содержащую продукты\r\n",
    "# с содержанием белка больше 20 г., а жира меньше 10 г.\r\n",
    "\r\n",
    "selection_89 = # ENTER YOUR CODE HERE\r\n",
    "# selection_89"
   ],
   "outputs": [],
   "metadata": {}
  },
  {
   "cell_type": "code",
   "execution_count": 47,
   "source": [
    "# Задание 8.10. \r\n",
    "# Извлечь из датафрейма items выборку, содержащую продукты, \r\n",
    "# сожержащие только жиры.\r\n",
    "\r\n",
    "selection_810 = # ENTER YOUR CODE HERE\r\n",
    "# selection_810"
   ],
   "outputs": [],
   "metadata": {}
  },
  {
   "cell_type": "code",
   "execution_count": 48,
   "source": [
    "# Задание 8.11.\r\n",
    "# Извлечь из датафрейма items выборку, содержащую продукты, \r\n",
    "# сожержащие только углеводы.\r\n",
    "\r\n",
    "selection_811 = # ENTER YOUR CODE HERE\r\n",
    "# selection_811"
   ],
   "outputs": [],
   "metadata": {}
  },
  {
   "cell_type": "code",
   "execution_count": 49,
   "source": [
    "# Задание 8.12. \r\n",
    "# Извлечь из датафрейма items выборку, содержащую продукты, \r\n",
    "# с калорийностью от 400 до 500 калорий включительно, не содержащие углеводов.\r\n",
    "\r\n",
    "selection_812 = # ENTER YOUR CODE HERE\r\n",
    "# selection_812"
   ],
   "outputs": [],
   "metadata": {}
  },
  {
   "cell_type": "code",
   "execution_count": null,
   "source": [
    "# Проверка.\r\n",
    "\r\n",
    "check('task 8.7', selection_87)\r\n",
    "check('task 8.8', selection_88)\r\n",
    "check('task 8.9', selection_89)\r\n",
    "check('task 8.10', selection_810)\r\n",
    "check('task 8.11', selection_811)\r\n",
    "check('task 8.12', selection_812)"
   ],
   "outputs": [],
   "metadata": {}
  }
 ],
 "metadata": {
  "kernelspec": {
   "name": "python3",
   "display_name": "Python 3.8.10 64-bit"
  },
  "language_info": {
   "codemirror_mode": {
    "name": "ipython",
    "version": 3
   },
   "file_extension": ".py",
   "mimetype": "text/x-python",
   "name": "python",
   "nbconvert_exporter": "python",
   "pygments_lexer": "ipython3",
   "version": "3.8.10"
  },
  "orig_nbformat": 4,
  "vscode": {
   "interpreter": {
    "hash": "85ff1272ebdb9114fdc23fe6440a06ea2e2bbd843887993be9bf56c72b6508d5"
   }
  },
  "interpreter": {
   "hash": "0ff1e1fc79923b7048a1b0a049e1f8c29b7247f7ffa1cbd35692250f92a41541"
  }
 },
 "nbformat": 4,
 "nbformat_minor": 2
}